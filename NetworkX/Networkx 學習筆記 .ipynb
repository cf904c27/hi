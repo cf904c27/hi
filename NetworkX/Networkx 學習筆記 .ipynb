{
 "cells": [
  {
   "cell_type": "code",
   "execution_count": 1,
   "metadata": {},
   "outputs": [],
   "source": [
    "# pip install --upgrade networkx\n",
    "\n",
    "import networkx as nx    # SNA的主要套件networkx\n",
    "from networkx.algorithms import community     # 社區發現演算法\n",
    "\n",
    "import matplotlib.pyplot as plt\n",
    "import numpy as np\n",
    "import pandas as pd\n",
    "%matplotlib notebook"
   ]
  },
  {
   "cell_type": "markdown",
   "metadata": {},
   "source": [
    "### Graph 圖"
   ]
  },
  {
   "cell_type": "code",
   "execution_count": 2,
   "metadata": {},
   "outputs": [],
   "source": [
    "G = nx.Graph()      # Graph是網絡節點的集合"
   ]
  },
  {
   "cell_type": "code",
   "execution_count": 3,
   "metadata": {},
   "outputs": [],
   "source": [
    "H = nx.path_graph(10)    # H 是一個有10個點的 \"鏈狀圖\" (0~9)"
   ]
  },
  {
   "cell_type": "code",
   "execution_count": null,
   "metadata": {},
   "outputs": [],
   "source": [
    "G = nx.from_pandas_edgelist(df, 'source', 'target')"
   ]
  },
  {
   "cell_type": "markdown",
   "metadata": {},
   "source": [
    "### Node 點"
   ]
  },
  {
   "cell_type": "code",
   "execution_count": 4,
   "metadata": {},
   "outputs": [],
   "source": [
    "G.add_node(1)    # 在圖 G裡新增一個節點 1   # 除了None外，任何對象都可以是節點\n",
    "G.add_nodes_from([2, 3])  # 從list裡增加2、3兩個節點  #注意list本身不是一個節點，若要令list為節點要用add_node"
   ]
  },
  {
   "cell_type": "code",
   "execution_count": 5,
   "metadata": {},
   "outputs": [],
   "source": [
    "G.add_node(\"spam\")       #添加一個節點'spam'\n",
    "G.add_nodes_from(\"spam\") #添加四個節點's' 'p' 'a' 'm'"
   ]
  },
  {
   "cell_type": "code",
   "execution_count": 6,
   "metadata": {},
   "outputs": [],
   "source": [
    "G.add_node(H)   # 在graph G裡加入另一個 圖 H 當節點 (增加一個節點)\n",
    "G.add_nodes_from(H)      # 在graph G裡加入另一個graph H 的節點 (增加10個節點)"
   ]
  },
  {
   "cell_type": "markdown",
   "metadata": {},
   "source": [
    "### Edge 邊"
   ]
  },
  {
   "cell_type": "code",
   "execution_count": 7,
   "metadata": {},
   "outputs": [],
   "source": [
    "G.add_edge(1, 2)  # 將1和2兩個點加邊\n",
    "\n",
    "e = (1, 2)\n",
    "G.add_edge(*e)  # 也可以這樣寫"
   ]
  },
  {
   "cell_type": "code",
   "execution_count": 8,
   "metadata": {},
   "outputs": [],
   "source": [
    "G.add_edges_from([(1, 2), (1, 3)])  # 利用list增加多條邊(這裡是把1和2連一條，1和3連一條)"
   ]
  },
  {
   "cell_type": "code",
   "execution_count": 9,
   "metadata": {},
   "outputs": [],
   "source": [
    "G.add_edges_from(H.edges())         # 在graph G裡加入graph H的邊    #不能寫成G.add_edges_from(H)"
   ]
  },
  {
   "cell_type": "code",
   "execution_count": 10,
   "metadata": {},
   "outputs": [],
   "source": [
    "# 重複添加已經存在的點和邊不會有任何改變   # 給邊的話 那兩個點若不再圖上會自動加入圖中"
   ]
  },
  {
   "cell_type": "markdown",
   "metadata": {},
   "source": [
    "### 去除點和邊"
   ]
  },
  {
   "cell_type": "code",
   "execution_count": 11,
   "metadata": {},
   "outputs": [],
   "source": [
    "\n",
    "G.remove_node(H)\n",
    "#G.remove_node()\n",
    "#G.remove_nodes_from()\n",
    "#G.remove_edge()\n",
    "#G.remove_edges_from()    #邏輯與上面介紹的add一樣\n"
   ]
  },
  {
   "cell_type": "code",
   "execution_count": 12,
   "metadata": {},
   "outputs": [
    {
     "data": {
      "text/plain": [
       "'\\nG.clear()   #刪掉所有的點和邊\\n'"
      ]
     },
     "execution_count": 12,
     "metadata": {},
     "output_type": "execute_result"
    }
   ],
   "source": [
    "'''\n",
    "G.clear()   #刪掉所有的點和邊\n",
    "'''"
   ]
  },
  {
   "cell_type": "code",
   "execution_count": 13,
   "metadata": {},
   "outputs": [],
   "source": [
    "# 和add不同，若圖中沒有要刪的目標會顯示錯誤"
   ]
  },
  {
   "cell_type": "markdown",
   "metadata": {},
   "source": [
    "### 查看Graph的情形"
   ]
  },
  {
   "cell_type": "code",
   "execution_count": null,
   "metadata": {},
   "outputs": [],
   "source": [
    "print(nx.info(G))    # 查看G有多少點和邊"
   ]
  },
  {
   "cell_type": "code",
   "execution_count": 14,
   "metadata": {},
   "outputs": [
    {
     "data": {
      "text/plain": [
       "15"
      ]
     },
     "execution_count": 14,
     "metadata": {},
     "output_type": "execute_result"
    }
   ],
   "source": [
    "G.number_of_nodes()   # G的點的數量"
   ]
  },
  {
   "cell_type": "code",
   "execution_count": 15,
   "metadata": {},
   "outputs": [
    {
     "data": {
      "text/plain": [
       "NodeView((1, 2, 3, 'spam', 's', 'p', 'a', 'm', 0, 4, 5, 6, 7, 8, 9))"
      ]
     },
     "execution_count": 15,
     "metadata": {},
     "output_type": "execute_result"
    }
   ],
   "source": [
    "G.nodes()             # 列出G的所有點"
   ]
  },
  {
   "cell_type": "code",
   "execution_count": null,
   "metadata": {},
   "outputs": [],
   "source": [
    "G.has_node(n)        # 查看n點有沒有在G裡"
   ]
  },
  {
   "cell_type": "code",
   "execution_count": 16,
   "metadata": {},
   "outputs": [
    {
     "data": {
      "text/plain": [
       "10"
      ]
     },
     "execution_count": 16,
     "metadata": {},
     "output_type": "execute_result"
    }
   ],
   "source": [
    "G.number_of_edges()   # G的邊的數量"
   ]
  },
  {
   "cell_type": "code",
   "execution_count": 17,
   "metadata": {},
   "outputs": [
    {
     "data": {
      "text/plain": [
       "EdgeView([(1, 2), (1, 3), (1, 0), (2, 3), (3, 4), (4, 5), (5, 6), (6, 7), (7, 8), (8, 9)])"
      ]
     },
     "execution_count": 17,
     "metadata": {},
     "output_type": "execute_result"
    }
   ],
   "source": [
    "G.edges()             # 列出G的所有邊"
   ]
  },
  {
   "cell_type": "code",
   "execution_count": null,
   "metadata": {},
   "outputs": [],
   "source": [
    "G.has_edge(u, v)     # 查看u和v之間有沒有邊在G裡"
   ]
  },
  {
   "cell_type": "code",
   "execution_count": 18,
   "metadata": {},
   "outputs": [
    {
     "data": {
      "text/plain": [
       "3"
      ]
     },
     "execution_count": 18,
     "metadata": {},
     "output_type": "execute_result"
    }
   ],
   "source": [
    "G.degree(1)          # 節點1有多少邊"
   ]
  },
  {
   "cell_type": "code",
   "execution_count": null,
   "metadata": {},
   "outputs": [],
   "source": [
    "print G.degree()     # 列出所有節點的dgree"
   ]
  },
  {
   "cell_type": "code",
   "execution_count": null,
   "metadata": {},
   "outputs": [],
   "source": [
    "print nx.degree_histogram(G)  # 由大到小列出所有節點的dgree"
   ]
  },
  {
   "cell_type": "markdown",
   "metadata": {},
   "source": [
    "### 屬性 Attributes"
   ]
  },
  {
   "cell_type": "markdown",
   "metadata": {},
   "source": [
    "#### Graph"
   ]
  },
  {
   "cell_type": "code",
   "execution_count": 19,
   "metadata": {},
   "outputs": [],
   "source": [
    "G = nx.Graph(day='Friday')     # 為圖添加屬性  # 點和邊也可以"
   ]
  },
  {
   "cell_type": "code",
   "execution_count": 20,
   "metadata": {},
   "outputs": [],
   "source": [
    "G.graph['day'] = 'Monday'      # 更改屬性"
   ]
  },
  {
   "cell_type": "code",
   "execution_count": 21,
   "metadata": {},
   "outputs": [],
   "source": [
    "G.graph['month'] = 'May'       # 新增新的屬性"
   ]
  },
  {
   "cell_type": "code",
   "execution_count": 22,
   "metadata": {},
   "outputs": [
    {
     "data": {
      "text/plain": [
       "{'day': 'Monday', 'month': 'May'}"
      ]
     },
     "execution_count": 22,
     "metadata": {},
     "output_type": "execute_result"
    }
   ],
   "source": [
    "G.graph"
   ]
  },
  {
   "cell_type": "markdown",
   "metadata": {},
   "source": [
    "#### Node"
   ]
  },
  {
   "cell_type": "code",
   "execution_count": 23,
   "metadata": {},
   "outputs": [],
   "source": [
    "G.add_node(1, time='5pm')\n",
    "\n",
    "G.add_nodes_from([3], time='2pm')      # 在add_node時可以直接加屬性"
   ]
  },
  {
   "cell_type": "code",
   "execution_count": 24,
   "metadata": {},
   "outputs": [],
   "source": [
    "G.nodes[1]['room'] = 714       # 直接指定已存在的node加屬性\n",
    "\n",
    "G.nodes[1]['time'] = '4pm'     # 修改屬性"
   ]
  },
  {
   "cell_type": "code",
   "execution_count": 25,
   "metadata": {},
   "outputs": [
    {
     "data": {
      "text/plain": [
       "NodeDataView({1: {'time': '4pm', 'room': 714}, 3: {'time': '2pm'}})"
      ]
     },
     "execution_count": 25,
     "metadata": {},
     "output_type": "execute_result"
    }
   ],
   "source": [
    "G.nodes.data()                # .data可以看到屬性"
   ]
  },
  {
   "cell_type": "markdown",
   "metadata": {},
   "source": [
    "#### Edge"
   ]
  },
  {
   "cell_type": "code",
   "execution_count": 26,
   "metadata": {},
   "outputs": [],
   "source": [
    "G.add_edge(1, 2, weight=4.7 )      # 在1和2之間的邊加屬性\n",
    "\n",
    "G.add_edges_from([(3, 4), (4, 5)], color='red')   # 在多個邊加屬性\n",
    "\n",
    "G.add_edges_from([(1, 2, {'color': 'blue'}), (2, 3, {'weight': 8})])    # 在不同邊加不同屬性"
   ]
  },
  {
   "cell_type": "code",
   "execution_count": 27,
   "metadata": {},
   "outputs": [],
   "source": [
    "G[1][2]['weight'] = 4.8        # 修改屬性\n",
    "\n",
    "G.edges[3, 4]['weight'] = 4.2   # 或是這樣   # 若修改的屬性原本沒有，會直接加上去 = ="
   ]
  },
  {
   "cell_type": "code",
   "execution_count": 28,
   "metadata": {},
   "outputs": [
    {
     "data": {
      "text/plain": [
       "EdgeDataView([(1, 2, {'weight': 4.8, 'color': 'blue'}), (3, 4, {'color': 'red', 'weight': 4.2}), (3, 2, {'weight': 8}), (4, 5, {'color': 'red'})])"
      ]
     },
     "execution_count": 28,
     "metadata": {},
     "output_type": "execute_result"
    }
   ],
   "source": [
    "G.edges.data()"
   ]
  },
  {
   "cell_type": "markdown",
   "metadata": {},
   "source": [
    "#### 由 DataFrame 加 Attributes 到 node"
   ]
  },
  {
   "cell_type": "code",
   "execution_count": null,
   "metadata": {},
   "outputs": [],
   "source": [
    "color = np.asarray(df['color'])\n",
    "Color = pd.Series(color, index=df.ID).to_dict()   # 以node作為index，且要換為字典\n",
    "\n",
    "nx.set_node_attributes(G, Color, 'color')         # 在G中的點加上Color字典裡的資料(屬性)，並命名該屬性為'color'"
   ]
  },
  {
   "cell_type": "markdown",
   "metadata": {},
   "source": [
    "#### 查看屬性"
   ]
  },
  {
   "cell_type": "code",
   "execution_count": null,
   "metadata": {},
   "outputs": [],
   "source": [
    "G.node['1']['color']   # 看點1的顏色"
   ]
  },
  {
   "cell_type": "code",
   "execution_count": null,
   "metadata": {},
   "outputs": [],
   "source": [
    "nx.get_node_attributes(G,'color') # 看G所有點的color屬性"
   ]
  },
  {
   "cell_type": "markdown",
   "metadata": {},
   "source": [
    "### Directed graphs 有向圖"
   ]
  },
  {
   "cell_type": "code",
   "execution_count": 29,
   "metadata": {},
   "outputs": [],
   "source": [
    "DG = nx.DiGraph()      # DiGraph為有向圖"
   ]
  },
  {
   "cell_type": "code",
   "execution_count": 30,
   "metadata": {},
   "outputs": [],
   "source": [
    "DG.add_weighted_edges_from([(1, 2, 0.5), (1, 3, 0.75),(2, 3, 0.75)])    # 給有向圖邊和那些邊 weight"
   ]
  },
  {
   "cell_type": "code",
   "execution_count": 31,
   "metadata": {},
   "outputs": [
    {
     "data": {
      "text/plain": [
       "2"
      ]
     },
     "execution_count": 31,
     "metadata": {},
     "output_type": "execute_result"
    }
   ],
   "source": [
    "DG.out_degree(1)       # degree 度，節點有多少邊    # out_degree代表出去的邊數、in_degree代表近來的邊數"
   ]
  },
  {
   "cell_type": "code",
   "execution_count": 32,
   "metadata": {},
   "outputs": [
    {
     "data": {
      "text/plain": [
       "1.25"
      ]
     },
     "execution_count": 32,
     "metadata": {},
     "output_type": "execute_result"
    }
   ],
   "source": [
    "DG.out_degree(1, weight='weight')     # weight應該是一個特殊屬性，在算法需要使用weight時會用到  #這邊給的是相加"
   ]
  },
  {
   "cell_type": "code",
   "execution_count": 33,
   "metadata": {},
   "outputs": [
    {
     "data": {
      "text/plain": [
       "1.25"
      ]
     },
     "execution_count": 33,
     "metadata": {},
     "output_type": "execute_result"
    }
   ],
   "source": [
    "DG.degree(1, weight='weight')      # 不分in out"
   ]
  },
  {
   "cell_type": "code",
   "execution_count": 34,
   "metadata": {},
   "outputs": [
    {
     "data": {
      "text/plain": [
       "[2, 3]"
      ]
     },
     "execution_count": 34,
     "metadata": {},
     "output_type": "execute_result"
    }
   ],
   "source": [
    "list(DG.successors(1))     # 列出所有該點出去的下一個點"
   ]
  },
  {
   "cell_type": "code",
   "execution_count": 35,
   "metadata": {},
   "outputs": [
    {
     "data": {
      "text/plain": [
       "[2, 3]"
      ]
     },
     "execution_count": 35,
     "metadata": {},
     "output_type": "execute_result"
    }
   ],
   "source": [
    "list(DG.neighbors(1))     # 用於無向圖，但有向圖也可以用，意思和 successors一樣"
   ]
  },
  {
   "cell_type": "code",
   "execution_count": 36,
   "metadata": {},
   "outputs": [],
   "source": [
    "#  H = DG.to_undirected()    \n",
    "#  H = nx.Graph(DG)          # 將有向圖轉為無向圖(兩種都可以)"
   ]
  },
  {
   "cell_type": "markdown",
   "metadata": {},
   "source": [
    "### Multi graphs 多圖 (無向)"
   ]
  },
  {
   "cell_type": "code",
   "execution_count": 37,
   "metadata": {},
   "outputs": [],
   "source": [
    "MG = nx.MultiGraph()     # 多圖指的是兩個點之間會有多條邊，多數演算法不能使用這種圖"
   ]
  },
  {
   "cell_type": "code",
   "execution_count": 38,
   "metadata": {},
   "outputs": [
    {
     "data": {
      "text/plain": [
       "{1: 1.25, 2: 1.75, 3: 0.5}"
      ]
     },
     "execution_count": 38,
     "metadata": {},
     "output_type": "execute_result"
    }
   ],
   "source": [
    "MG.add_weighted_edges_from([(1, 2, 0.5), (1, 2, 0.75), (2, 3, 0.5)])\n",
    "\n",
    "dict(MG.degree(weight='weight'))          # 沒有給點就會每個點都列出來"
   ]
  },
  {
   "cell_type": "markdown",
   "metadata": {},
   "source": [
    "### Multi Directed graphs 多圖(有向)"
   ]
  },
  {
   "cell_type": "code",
   "execution_count": null,
   "metadata": {},
   "outputs": [],
   "source": [
    "MDG = nx.MultiDiGraph()"
   ]
  },
  {
   "cell_type": "markdown",
   "metadata": {},
   "source": [
    "### 其他"
   ]
  },
  {
   "cell_type": "code",
   "execution_count": 47,
   "metadata": {
    "scrolled": true
   },
   "outputs": [
    {
     "data": {
      "text/plain": [
       "'\\n\\nunion(G1,G2)          # G1和G2兩圖結合成新的圖\\n\\ndisjoint_union(G1,G2) # 假设所有節點都不同，然後再結合 \\n\\ncompose(G1,G2)        # 結合兩圖並顯示相同節點 \\n\\ncreate_empty_copy(G)  # 複製一個只有G的點的圖(把所有邊去掉)\\n\\n'"
      ]
     },
     "execution_count": 47,
     "metadata": {},
     "output_type": "execute_result"
    }
   ],
   "source": [
    "union(G1,G2)           # G1和G2兩圖結合成新的圖\n",
    "\n",
    "disjoint_union(G1,G2)  # 假设所有節點都不同，然後再結合 \n",
    "\n",
    "compose(G1,G2)         # 結合兩圖並顯示相同節點 \n",
    "\n",
    "create_empty_copy(G)   # 複製一個只有G的點的圖(把所有邊去掉)"
   ]
  },
  {
   "cell_type": "markdown",
   "metadata": {},
   "source": [
    "### 新增Graph"
   ]
  },
  {
   "cell_type": "code",
   "execution_count": null,
   "metadata": {},
   "outputs": [],
   "source": [
    "# 由 pandas的 Dataframe匯入\n",
    "\n",
    "G = nx.Graph()\n",
    "G = nx.from_pandas_edgelist(df, 'node1', 'node2', edge_attr=['attribute1','attribute2']) # 若edge_attr=True等於代入其他col當屬性"
   ]
  },
  {
   "cell_type": "markdown",
   "metadata": {},
   "source": [
    "### 網絡圖視覺化\n",
    "https://networkx.github.io/documentation/stable/reference/drawing.html#module-networkx.drawing.layout"
   ]
  },
  {
   "cell_type": "code",
   "execution_count": null,
   "metadata": {},
   "outputs": [],
   "source": [
    "pos = nx.spring_layout          # spring_layout   多中心放射\n",
    "                                # circular_layout 圓形\n",
    "                                # random_layout   隨機分布\n",
    "                                # shell_layout    同心圓"
   ]
  },
  {
   "cell_type": "code",
   "execution_count": null,
   "metadata": {},
   "outputs": [],
   "source": [
    "nx.draw_networkx(G, pos,            # pos為點的排列形式，預設為=None\n",
    "                 arrows=True,       # 若為有向圖，True會畫出邊的箭頭(顏色和邊相同)\n",
    "                 with_labels=True,  # 點上有標記名稱\n",
    "                 node_size=300,\n",
    "                 node_color='r',\n",
    "                 cmap=True,         # 以 Matplotlib 的 colormap 呈現點的重要性(或社群顏色)\n",
    "                 edge_color='r',\n",
    "                 edge_cmap=None,    # 以 Matplotlib 的 colormap 呈現邊的重要性\n",
    "                 style='dashed',    # 邊的style (預設:solid，其他 dashed dotted dashdot)\n",
    "                 )"
   ]
  },
  {
   "cell_type": "markdown",
   "metadata": {},
   "source": [
    "依顏色深淺畫出圖中各點重要性 或是 依照顏色區別圖中各社群有哪些點：\n",
    "https://python-graph-gallery.com/324-map-a-color-to-network-nodes/"
   ]
  },
  {
   "cell_type": "markdown",
   "metadata": {},
   "source": [
    "### 社群發現\n",
    "https://networkx.github.io/documentation/stable/reference/algorithms/community.html"
   ]
  },
  {
   "cell_type": "markdown",
   "metadata": {},
   "source": [
    "Girvan-Newman算法的基本流程：  \n",
    ">1.計算網絡中所有點的betweenness centrality  \n",
    "2.以最高betweenness centrality點的邊開始先把它從網絡中移除  \n",
    "3.重複步驟2，直到每個點成為一個獨立的社區為止(網絡中没有邊存在)  \n",
    "4.以Q值(Modularity Q)決定社群數量，切到Q值最大的時候停止(Q值為0~1之間，數值越大代表社區結構越明顯)  \n",
    "\n",
    "因為是以betweenness centrality找群，所以列出的社群之節點會依照betweenness centrality由大到小排(越前面代表越靠近群的中心)  \n",
    "缺點:不易處理太複雜的網絡(花太久時間)、在得知網絡有幾個社群之下無法使用GN切出該數量的社群(無法指定要幾個社群)  \n",
    "\n",
    "參考資料 https://sikasjc.github.io/2017/12/20/GN/"
   ]
  },
  {
   "cell_type": "code",
   "execution_count": null,
   "metadata": {},
   "outputs": [],
   "source": [
    "# Girvan Newman\n",
    "\n",
    "from networkx.algorithms import community\n",
    "\n",
    "communities_generator = community.girvan_newman(G) \n",
    "next_level_communities = next(communities_generator)\n",
    "sorted(map(sorted, next_level_communities))"
   ]
  },
  {
   "cell_type": "code",
   "execution_count": null,
   "metadata": {},
   "outputs": [],
   "source": [
    "# 將分群結果換為 DataFrame (以利於之後繪圖)\n",
    "\n",
    "data = [[element, \"{}\".format(ii + 1)] for ii, st in enumerate(next_level_communities) for element in sorted(st)]\n",
    "frame = pd.DataFrame(data=data, columns=['node', 'Group'])\n",
    "frame"
   ]
  },
  {
   "cell_type": "code",
   "execution_count": null,
   "metadata": {},
   "outputs": [],
   "source": [
    "# k_clique\n",
    "# 可以找出任兩點相連的社群(clique)，k為最小clique人數，以4為例就是找出4人以上的clique\n",
    "\n",
    "from networkx.algorithms.Centrality import k_clique_communities\n",
    "\n",
    "list(k_clique_communities(G, 4))"
   ]
  },
  {
   "cell_type": "code",
   "execution_count": null,
   "metadata": {},
   "outputs": [],
   "source": [
    "# Fluid Communities\n",
    "# 每次分社群的結果會不一樣\n",
    "\n",
    "from networkx.algorithms import community\n",
    "communities_generator = community.asyn_fluidc(G, k)   # k可以設你想找幾個社群"
   ]
  },
  {
   "cell_type": "markdown",
   "metadata": {},
   "source": [
    "### 連結\n",
    "https://networkx.github.io/documentation/stable/reference/algorithms/component.html"
   ]
  },
  {
   "cell_type": "code",
   "execution_count": null,
   "metadata": {},
   "outputs": [],
   "source": [
    "# 僅無向圖適用\n",
    "# 以連結為標準分群體  ([A,B],[C,D] 分為兩個不同的群體)\n",
    "\n",
    "nx.connected_components(G)\n",
    "\n",
    "nx.number_connected_components(G)     # 看可以分成幾個Graph"
   ]
  },
  {
   "cell_type": "code",
   "execution_count": null,
   "metadata": {},
   "outputs": [],
   "source": [
    "# 分為不同的Graph\n",
    "\n",
    "list(nx.connected_component_subgraphs(G))   # 輸出為多個Graph的list，這些Graph都在G裡\n",
    "\n",
    "K = max(nx.connected_component_subgraphs(G), key=len)   # 其中node最多的Graph"
   ]
  },
  {
   "cell_type": "markdown",
   "metadata": {},
   "source": [
    "### 中心性\n",
    "networkx:https://networkx.github.io/documentation/stable/reference/algorithms/centrality.html\n",
    "解釋參考:https://www.zhihu.com/question/22610633"
   ]
  },
  {
   "cell_type": "code",
   "execution_count": null,
   "metadata": {},
   "outputs": [],
   "source": [
    "# degree centrality (以degree)\n",
    "\n",
    "nx.degree_centrality(G)"
   ]
  },
  {
   "cell_type": "code",
   "execution_count": null,
   "metadata": {},
   "outputs": [],
   "source": [
    "# betweenness centrality  (被經過)\n",
    "\n",
    "nx.betweenness_centrality(G)"
   ]
  },
  {
   "cell_type": "code",
   "execution_count": null,
   "metadata": {},
   "outputs": [],
   "source": [
    "# closeness centrality (以路徑長度)\n",
    "\n",
    "nx.closeness_centrality(G)"
   ]
  },
  {
   "cell_type": "code",
   "execution_count": null,
   "metadata": {},
   "outputs": [],
   "source": [
    "# 將中心性 dict轉為 list再轉為 dataframe (直接用DataFrame會出錯)\n",
    "\n",
    "degree_centrality = nx.degree_centrality(G)\n",
    "centra = list(degree_centrality.items())     \n",
    "\n",
    "pd.DataFrame(centra, columns=['node', 'centrality'])"
   ]
  }
 ],
 "metadata": {
  "kernelspec": {
   "display_name": "Python 3",
   "language": "python",
   "name": "python3"
  },
  "language_info": {
   "codemirror_mode": {
    "name": "ipython",
    "version": 3
   },
   "file_extension": ".py",
   "mimetype": "text/x-python",
   "name": "python",
   "nbconvert_exporter": "python",
   "pygments_lexer": "ipython3",
   "version": "3.6.5"
  }
 },
 "nbformat": 4,
 "nbformat_minor": 2
}
