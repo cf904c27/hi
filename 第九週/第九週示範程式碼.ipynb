{
 "cells": [
  {
   "cell_type": "code",
   "execution_count": null,
   "metadata": {},
   "outputs": [],
   "source": [
    "import warnings\n",
    "warnings.filterwarnings(\"ignore\")\n",
    "\n",
    "#######################################################################################\n",
    "import matplotlib\n",
    "import matplotlib.pyplot as plt\n",
    "#matplotlib內建不支援中文，解決辦法：每次預先指定字體\n",
    "matplotlib.rcParams.update({'font.size': 36})\n",
    "matplotlib.use('qt4agg')\n",
    "myfont = matplotlib.font_manager.FontProperties(fname='C:\\\\Windows\\\\Fonts\\\\msjh.ttc')\n",
    "#指定字體\n",
    "matplotlib.rcParams['axes.unicode_minus']=False\n",
    "\n",
    "from matplotlib.ticker import FormatStrFormatter\n",
    "majorFormatter = FormatStrFormatter('%0.f') #設定圖表浮點數的格式\n",
    "%matplotlib inline \n",
    "#繪圖完就直接顯示該圖，省略每次繪圖完都要輸入plt.show指令的動作\n",
    "#######################################################################################\n",
    "import seaborn as sns\n",
    "\n",
    "import operator\n",
    "import numpy as np\n",
    "# 設定array的float格式\n",
    "float_formatter = lambda x: \"%.2f\" % x\n",
    "np.set_printoptions(formatter={'float_kind':float_formatter})\n",
    "import pandas as pd\n",
    "pd.set_option('display.max_columns', 100)  #設定可顯示欄位的上限\n",
    "pd.options.display.float_format = '{:,.6f}'.format  #設定浮點數的格式\n",
    "\n",
    "from sklearn.model_selection import train_test_split, GridSearchCV\n",
    "from sklearn.metrics import accuracy_score, mean_squared_error, mean_absolute_error\n"
   ]
  },
  {
   "cell_type": "code",
   "execution_count": null,
   "metadata": {},
   "outputs": [],
   "source": [
    "import keras\n",
    "from keras.models import Sequential\n",
    "from keras.layers import Dense, Dropout, GRU\n",
    "from keras.wrappers.scikit_learn import KerasClassifier"
   ]
  },
  {
   "cell_type": "markdown",
   "metadata": {},
   "source": [
    "# 資料讀取"
   ]
  },
  {
   "cell_type": "code",
   "execution_count": null,
   "metadata": {},
   "outputs": [],
   "source": [
    "data = pd.read_excel('data.xlsx', encoding='utf8')"
   ]
  },
  {
   "cell_type": "code",
   "execution_count": null,
   "metadata": {},
   "outputs": [],
   "source": [
    "data = data.fillna(0)\n",
    "data.info()"
   ]
  },
  {
   "cell_type": "code",
   "execution_count": null,
   "metadata": {},
   "outputs": [],
   "source": [
    "data.head(10)"
   ]
  },
  {
   "cell_type": "markdown",
   "metadata": {},
   "source": [
    "# 建立訓練樣本"
   ]
  },
  {
   "cell_type": "code",
   "execution_count": null,
   "metadata": {},
   "outputs": [],
   "source": [
    "#訓練樣本(X)，過去30天是否登入\n",
    "train_df = data.iloc[:,-37:-7].copy()\n",
    "train_df.head()"
   ]
  },
  {
   "cell_type": "code",
   "execution_count": null,
   "metadata": {},
   "outputs": [],
   "source": [
    "#預測對象(Y)，未來一週是否登入\n",
    "train_y = data.iloc[:, -7:].copy()\n",
    "train_y.head()"
   ]
  },
  {
   "cell_type": "code",
   "execution_count": null,
   "metadata": {},
   "outputs": [],
   "source": [
    "#GRU與lstm同樣要求輸入必須為3維，於是利用np.reshape函數將其轉換為3維\n",
    "train_value = train_df.values\n",
    "train_value = np.reshape(train_value, (train_value.shape[0], train_value.shape[1], 1))\n",
    "print(train_value.shape) #樣本數, timesteps, 特徵數"
   ]
  },
  {
   "cell_type": "markdown",
   "metadata": {},
   "source": [
    "## 調整模型參數"
   ]
  },
  {
   "cell_type": "code",
   "execution_count": null,
   "metadata": {},
   "outputs": [],
   "source": [
    "#node代表各層神經元的數量，dropout_rate代表drop的比率，opt代表優化器\n",
    "\n",
    "def get_model(node=128, dropout_rate=0, opt='nadam'):\n",
    "    model = Sequential()\n",
    "    model.add(GRU(units=node,input_shape=(train_value.shape[1], train_value.shape[2]), return_sequences=True))#timestep, feature\n",
    "    model.add(Dropout(dropout_rate)) #依一定比例斷開神經元連結，降低模型複雜度，避免過擬合\n",
    "    model.add(GRU(units=node))\n",
    "    model.add(Dropout(dropout_rate))\n",
    "    model.add(Dense(7, activation='sigmoid')) #模型輸出未來7天的登入機率\n",
    "    model.compile(loss='binary_crossentropy',\n",
    "                  optimizer=opt,\n",
    "                  metrics=['accuracy'])\n",
    "    \n",
    "    return model #回傳keras模型"
   ]
  },
  {
   "cell_type": "code",
   "execution_count": null,
   "metadata": {},
   "outputs": [],
   "source": [
    "#KerasClassifier的作用是將模型包裝成sklearn的分類器，如此一來就能使用sklearn中自動調整參數的GridSearchCV\n",
    "\n",
    "#build_fn參數放入函數，該函數必須回傳一個keras模型\n",
    "neural_network = KerasClassifier(build_fn=get_model, batch_size=1024,epochs=1,verbose=0)"
   ]
  },
  {
   "cell_type": "code",
   "execution_count": null,
   "metadata": {},
   "outputs": [],
   "source": [
    "#調整神經元數量、dropout比率及優化器\n",
    "\n",
    "nodes = [64, 256]\n",
    "dropout_rates = [0.1,0.2,0.3,0.4]\n",
    "opts = ['nadam', 'adam', 'rmsprop', 'sgd']\n",
    "\n",
    "hyperparameters = dict(node=nodes, dropout_rate=dropout_rates, opt=opts) #必須為字典格式"
   ]
  },
  {
   "cell_type": "code",
   "execution_count": null,
   "metadata": {},
   "outputs": [],
   "source": [
    "#建立GridSearchCV\n",
    "#estimator放入分類器\n",
    "#param_grid放入事先設定好的參數範圍\n",
    "\n",
    "grid = GridSearchCV(estimator=neural_network, param_grid=hyperparameters)"
   ]
  },
  {
   "cell_type": "code",
   "execution_count": null,
   "metadata": {
    "scrolled": true
   },
   "outputs": [],
   "source": [
    "#GridSearchCV開始訓練\n",
    "grid_result = grid.fit(train_value, train_y, verbose=1) #verbose設定為1可以看到詳細訓練過程"
   ]
  },
  {
   "cell_type": "code",
   "execution_count": null,
   "metadata": {},
   "outputs": [],
   "source": [
    "#顯示最佳參數及其在交叉驗證的表現\n",
    "print('Best: %f using %s' %(grid_result.best_score_, grid_result.best_params_))"
   ]
  },
  {
   "cell_type": "code",
   "execution_count": null,
   "metadata": {
    "scrolled": true
   },
   "outputs": [],
   "source": [
    "#套用GridSearchCV找出的參數\n",
    "model = get_model(**grid_result.best_params_)\n",
    "model.fit(train_value, train_y , epochs=60,batch_size=512, verbose=1)"
   ]
  },
  {
   "cell_type": "code",
   "execution_count": null,
   "metadata": {},
   "outputs": [],
   "source": [
    "train_y_pred_lstm = model.predict(train_value)"
   ]
  },
  {
   "cell_type": "code",
   "execution_count": null,
   "metadata": {},
   "outputs": [],
   "source": [
    "\n",
    "pred_df = pd.DataFrame(train_y_pred_lstm) #train_y_pred_lstm為np.array將其轉換成pandas的dataframe\n",
    "\n",
    "for i in range(7):\n",
    "    pred_df[i] = np.round(pred_df[i])\n",
    "\n",
    "pred_df['sum'] = pred_df[0]+pred_df[1]+pred_df[2]+pred_df[3]+pred_df[4]+pred_df[5]+pred_df[6]\n",
    "pred_df.head()\n"
   ]
  },
  {
   "cell_type": "code",
   "execution_count": null,
   "metadata": {},
   "outputs": [],
   "source": [
    "\n",
    "result = train_y.copy()\n",
    "result['遊戲帳號'] = data.account\n",
    "result['登入次數實際值'] = result.iloc[:,0]+result.iloc[:,1]+result.iloc[:,2]+result.iloc[:,3]+result.iloc[:,4]+result.iloc[:,5]+result.iloc[:,6]\n",
    "\n",
    "result['下週登入次數預測']  = pred_df['sum']\n",
    "result = result[['遊戲帳號','登入次數實際值', '下週登入次數預測']]\n",
    "result.head(20)\n"
   ]
  },
  {
   "cell_type": "code",
   "execution_count": null,
   "metadata": {},
   "outputs": [],
   "source": [
    "\n",
    "y_true = result.登入次數實際值\n",
    "y_pred = result.下週登入次數預測\n",
    "\n",
    "#用RMSE衡量模型在訓練樣本上的表現\n",
    "score = np.sqrt(mean_squared_error(y_true, y_pred))\n",
    "score\n"
   ]
  },
  {
   "cell_type": "code",
   "execution_count": null,
   "metadata": {},
   "outputs": [],
   "source": [
    "#預測準確率\n",
    "score = accuracy_score(y_true, y_pred)\n",
    "score"
   ]
  },
  {
   "cell_type": "raw",
   "metadata": {},
   "source": []
  }
 ],
 "metadata": {
  "kernelspec": {
   "display_name": "Python 3",
   "language": "python",
   "name": "python3"
  },
  "language_info": {
   "codemirror_mode": {
    "name": "ipython",
    "version": 3
   },
   "file_extension": ".py",
   "mimetype": "text/x-python",
   "name": "python",
   "nbconvert_exporter": "python",
   "pygments_lexer": "ipython3",
   "version": "3.6.4"
  }
 },
 "nbformat": 4,
 "nbformat_minor": 2
}
