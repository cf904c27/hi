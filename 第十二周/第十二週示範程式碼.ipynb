{
 "cells": [
  {
   "cell_type": "code",
   "execution_count": null,
   "metadata": {},
   "outputs": [],
   "source": [
    "import numpy as np\n",
    "import pandas as pd\n",
    "pd.set_option('display.max_columns', 100)  #設定可顯示欄位的上限\n",
    "pd.options.display.float_format = '{:,.6f}'.format  #設定浮點數的格式\n",
    "import warnings\n",
    "warnings.filterwarnings(\"ignore\")\n",
    "\n",
    "#######################################################################################\n",
    "import matplotlib\n",
    "import matplotlib.pyplot as plt\n",
    "#matplotlib內建不支援中文，解決辦法：每次預先指定字體\n",
    "matplotlib.rcParams.update({'font.size': 36})\n",
    "matplotlib.use('qt4agg')\n",
    "myfont = matplotlib.font_manager.FontProperties(fname='C:\\\\Windows\\\\Fonts\\\\msjh.ttc')\n",
    "#指定字體\n",
    "matplotlib.rcParams['axes.unicode_minus']=False\n",
    "\n",
    "from matplotlib.ticker import FormatStrFormatter\n",
    "majorFormatter = FormatStrFormatter('%0.f') #設定圖表浮點數的格式\n",
    "%matplotlib inline \n",
    "#繪圖完就直接顯示該圖，省略每次繪圖完都要輸入plt.show指令的動作\n",
    "#######################################################################################\n",
    "\n",
    "\n",
    "from sklearn.model_selection import train_test_split\n",
    "from sklearn.metrics import accuracy_score"
   ]
  },
  {
   "cell_type": "code",
   "execution_count": null,
   "metadata": {},
   "outputs": [],
   "source": [
    "from catboost import CatBoostClassifier, Pool, cv"
   ]
  },
  {
   "cell_type": "code",
   "execution_count": null,
   "metadata": {},
   "outputs": [],
   "source": []
  },
  {
   "cell_type": "markdown",
   "metadata": {},
   "source": [
    "### 由於Hyperopt不支援networkx2.0版本，因此必須將networkx降為1.11版本，才能正常使用Hyperopt\n",
    "### 指令：pip install networkx==1.11\n",
    "### 資料來源：https://blog.csdn.net/FontThrone/article/details/79012616"
   ]
  },
  {
   "cell_type": "markdown",
   "metadata": {},
   "source": [
    "## 讀取資料"
   ]
  },
  {
   "cell_type": "code",
   "execution_count": null,
   "metadata": {},
   "outputs": [],
   "source": [
    "data = pd.read_excel('GF_RFMmodelExample_20180709_W2.xlsx', encoding='utf-8')"
   ]
  },
  {
   "cell_type": "code",
   "execution_count": null,
   "metadata": {},
   "outputs": [],
   "source": [
    "data.head(1)"
   ]
  },
  {
   "cell_type": "code",
   "execution_count": null,
   "metadata": {},
   "outputs": [],
   "source": [
    "data = data.drop_duplicates('遊戲帳號', keep='last')\n",
    "data.info()"
   ]
  },
  {
   "cell_type": "code",
   "execution_count": null,
   "metadata": {},
   "outputs": [],
   "source": [
    "data = data.dropna(how='any')\n",
    "data.info()"
   ]
  },
  {
   "cell_type": "markdown",
   "metadata": {},
   "source": [
    "## 建立樣本"
   ]
  },
  {
   "cell_type": "code",
   "execution_count": null,
   "metadata": {},
   "outputs": [],
   "source": [
    "data['isvalue'] = 1\n",
    "\n",
    "data.loc[data['RFM中文類型']=='N_停儲' ,'isvalue']=0\n",
    "data.loc[data['RFM中文類型']=='N_停滯' ,'isvalue']=0\n",
    "data.loc[data['RFM中文類型']=='N_退坑' ,'isvalue']=0"
   ]
  },
  {
   "cell_type": "code",
   "execution_count": null,
   "metadata": {},
   "outputs": [],
   "source": [
    "x = data.copy()\n",
    "y = x['isvalue']\n",
    "\n",
    "#15個變數，10個為連續變數，5個為類別變數\n",
    "x = x[['平均儲值日期區間','儲值次數', '平均儲值金額','累積儲值金額區間', \n",
    "       '角色等級', '角色職業', '修真', '轉生級別', '境界','魔書經驗', '星運',\n",
    "       '魂力', '傷害力指數', '生存指數', '聲望']]"
   ]
  },
  {
   "cell_type": "code",
   "execution_count": null,
   "metadata": {},
   "outputs": [],
   "source": [
    "x.head(1)"
   ]
  },
  {
   "cell_type": "code",
   "execution_count": null,
   "metadata": {},
   "outputs": [],
   "source": [
    "x['儲值次數'] = x['儲值次數'].astype(np.float64)\n",
    "x['平均儲值金額'] = x['平均儲值金額'].astype(np.float64)"
   ]
  },
  {
   "cell_type": "code",
   "execution_count": null,
   "metadata": {},
   "outputs": [],
   "source": [
    "#找出categorical features的索引\n",
    "print(x.dtypes)\n",
    "\n",
    "categorical_features_indices = np.where(x.dtypes != np.float64)[0] #由於只需要索引號碼，因此加上[0]讓它只回傳索引號碼\n",
    "print(categorical_features_indices)"
   ]
  },
  {
   "cell_type": "markdown",
   "metadata": {},
   "source": [
    "## 將資料分割成訓練、測試樣本"
   ]
  },
  {
   "cell_type": "code",
   "execution_count": null,
   "metadata": {},
   "outputs": [],
   "source": [
    "#固定random_state，使其每次劃分訓練和測試樣本皆保持一致\n",
    "x_train, x_test, y_train, y_test = train_test_split(x, y, test_size=0.2, random_state=42)\n",
    "\n",
    "print('訓練樣本數目：', x_train.shape[0])\n",
    "print('測試樣本數目：', x_test.shape[0])"
   ]
  },
  {
   "cell_type": "code",
   "execution_count": null,
   "metadata": {},
   "outputs": [],
   "source": [
    "x_train.head(1)"
   ]
  },
  {
   "cell_type": "markdown",
   "metadata": {},
   "source": [
    "## 建立模型\n",
    "### 使用CatBoost的預設參數"
   ]
  },
  {
   "cell_type": "code",
   "execution_count": null,
   "metadata": {},
   "outputs": [],
   "source": [
    "#custom_loss讓我們看到其他標準下模型的表現，預設metric是logloss, custom_loss=Accuracy則是另外用準確率來衡量\n",
    "#metric_period設定訓練每n次打印一次資訊\n",
    "\n",
    "model = CatBoostClassifier(custom_loss=['Accuracy'],\n",
    "                           iterations=500,\n",
    "                           random_seed=42, \n",
    "                           metric_period=50)"
   ]
  },
  {
   "cell_type": "code",
   "execution_count": null,
   "metadata": {},
   "outputs": [],
   "source": [
    "#cat_features是讓catboost知道categorical features的欄位位置\n",
    "#eval_set是放驗證or測試樣本，供模型評估其在驗證or測試樣本上的表現\n",
    "#plot設定是否讓catboost繪製損失函數的走勢圖\n",
    "\n",
    "model.fit(x_train, y_train,cat_features=categorical_features_indices,eval_set=(x_test, y_test),use_best_model=True,\n",
    "          plot=True)"
   ]
  },
  {
   "cell_type": "markdown",
   "metadata": {},
   "source": [
    "## 參數調整前的表現"
   ]
  },
  {
   "cell_type": "code",
   "execution_count": null,
   "metadata": {},
   "outputs": [],
   "source": [
    "#測試樣本\n",
    "y_test_pred = model.predict(x_test)\n",
    "\n",
    "score = accuracy_score(y_test, y_test_pred)\n",
    "score"
   ]
  },
  {
   "cell_type": "code",
   "execution_count": null,
   "metadata": {},
   "outputs": [],
   "source": [
    "#所有樣本\n",
    "y_all_pred = model.predict(x)\n",
    "\n",
    "score = accuracy_score(y, y_all_pred)\n",
    "score"
   ]
  },
  {
   "cell_type": "code",
   "execution_count": null,
   "metadata": {},
   "outputs": [],
   "source": []
  },
  {
   "cell_type": "markdown",
   "metadata": {},
   "source": [
    "## 參數調整\n",
    "\n",
    "### 使用CatBoost推薦的參數調整套件 — Hyperopt\n",
    "### Hyperopt的操作流程\n",
    "### 1. 定義目標函數，讓Hyperopt去最小化它\n",
    "### 2. 定義超參數空間，供Hyperopt選擇空間內最佳的超參數組合\n",
    "### 3. 定義Hyperopt搜尋的演算法"
   ]
  },
  {
   "cell_type": "code",
   "execution_count": null,
   "metadata": {},
   "outputs": [],
   "source": [
    "import hyperopt"
   ]
  },
  {
   "cell_type": "code",
   "execution_count": null,
   "metadata": {},
   "outputs": [],
   "source": [
    "# cv為catboost提供的交叉驗證函數\n",
    "\n",
    "def hyperopt_objective(params):\n",
    "    model = CatBoostClassifier(\n",
    "        learning_rate=params['learning_rate'],\n",
    "        iterations=500,\n",
    "        custom_loss=['Accuracy'],\n",
    "        random_seed=42\n",
    "    )\n",
    "    \n",
    "    cv_data = cv(\n",
    "        Pool(x, y, cat_features=categorical_features_indices),\n",
    "        model.get_params()\n",
    "    )\n",
    "    best_accuracy = np.max(cv_data['test-Accuracy-mean'])\n",
    "    \n",
    "    return 1 - best_accuracy "
   ]
  },
  {
   "cell_type": "code",
   "execution_count": null,
   "metadata": {},
   "outputs": [],
   "source": [
    "# trials 保存搜尋過程中所有資訊\n",
    "# fmin 回傳使目標函數最小化的參數\n",
    "# algo 設定參數搜尋時使用的演算法\n",
    "# max_evals 尋找幾種參數組合\n",
    "\n",
    "params_space = {\n",
    "    'learning_rate': hyperopt.hp.uniform('learning_rate', 1e-3, 1)}\n",
    "\n",
    "trials = hyperopt.Trials()\n",
    "\n",
    "best = hyperopt.fmin(\n",
    "    hyperopt_objective,\n",
    "    space=params_space,\n",
    "    algo=hyperopt.tpe.suggest,\n",
    "    max_evals=50,\n",
    "    trials=trials\n",
    ")\n",
    "\n",
    "print(best)"
   ]
  },
  {
   "cell_type": "code",
   "execution_count": null,
   "metadata": {},
   "outputs": [],
   "source": [
    "model = CatBoostClassifier(\n",
    "    learning_rate=best['learning_rate'], #套用最佳化的參數\n",
    "    iterations=500,\n",
    "    eval_metric='Accuracy',\n",
    "    random_seed=42,\n",
    "    logging_level='Silent')\n",
    "\n",
    "model.fit(x_train, y_train,cat_features=categorical_features_indices,eval_set=(x_test, y_test),use_best_model=True,\n",
    "          plot=True)"
   ]
  },
  {
   "cell_type": "markdown",
   "metadata": {},
   "source": [
    "## 參數調整後的表現"
   ]
  },
  {
   "cell_type": "code",
   "execution_count": null,
   "metadata": {},
   "outputs": [],
   "source": [
    "#測試樣本\n",
    "y_test_pred = model.predict(x_test)\n",
    "\n",
    "score = accuracy_score(y_test, y_test_pred)\n",
    "print('accuracy score: ', score)"
   ]
  },
  {
   "cell_type": "code",
   "execution_count": null,
   "metadata": {},
   "outputs": [],
   "source": [
    "#所有樣本\n",
    "y_all_pred = model.predict(x)\n",
    "\n",
    "score = accuracy_score(y, y_all_pred)\n",
    "print('accuracy score: ', score)"
   ]
  },
  {
   "cell_type": "markdown",
   "metadata": {},
   "source": [
    "## 使用skopt調參"
   ]
  },
  {
   "cell_type": "code",
   "execution_count": null,
   "metadata": {},
   "outputs": [],
   "source": [
    "from skopt import gp_minimize  \n",
    "from skopt.space import Real"
   ]
  },
  {
   "cell_type": "code",
   "execution_count": null,
   "metadata": {},
   "outputs": [],
   "source": [
    "model = CatBoostClassifier(\n",
    "        learning_rate=0.1,\n",
    "        iterations=500,\n",
    "        custom_loss=['Accuracy'],\n",
    "        random_seed=42\n",
    "    )"
   ]
  },
  {
   "cell_type": "code",
   "execution_count": null,
   "metadata": {},
   "outputs": [],
   "source": [
    "def skopt_objective(params):\n",
    "    \n",
    "    model = CatBoostClassifier(\n",
    "        learning_rate=params[0],\n",
    "        iterations=500,\n",
    "        custom_loss=['Accuracy'],\n",
    "        random_seed=42,\n",
    "        verbose=False\n",
    "    )\n",
    "    \n",
    "    cv_data = cv(\n",
    "        Pool(x, y, cat_features=categorical_features_indices),\n",
    "        model.get_params()\n",
    "    )\n",
    "    \n",
    "    best_accuracy = np.max(cv_data['test-Accuracy-mean'])\n",
    "    \n",
    "    current_param = model.get_params()\n",
    "    print('\\nACC.....',best_accuracy,\".....param.....\", current_param['learning_rate'])\n",
    "    \n",
    "    return 1 - best_accuracy "
   ]
  },
  {
   "cell_type": "code",
   "execution_count": null,
   "metadata": {
    "scrolled": true
   },
   "outputs": [],
   "source": [
    "search_params = [Real(1e-3, 1)]\n",
    "\n",
    "\n",
    "best = gp_minimize(\n",
    "    skopt_objective,\n",
    "    search_params,\n",
    "    n_calls=100,\n",
    ")"
   ]
  },
  {
   "cell_type": "code",
   "execution_count": null,
   "metadata": {},
   "outputs": [],
   "source": [
    "#顯示最佳化參數\n",
    "print(best.x)\n",
    "\n",
    "model = CatBoostClassifier(\n",
    "        learning_rate=best.x[0],\n",
    "        iterations=500,\n",
    "        custom_loss=['Accuracy'],\n",
    "        random_seed=42)"
   ]
  },
  {
   "cell_type": "code",
   "execution_count": null,
   "metadata": {},
   "outputs": [],
   "source": [
    "model.fit(x_train, y_train,cat_features=categorical_features_indices,eval_set=(x_test, y_test),use_best_model=True,\n",
    "          plot=True)"
   ]
  },
  {
   "cell_type": "markdown",
   "metadata": {},
   "source": [
    "## Skopt調整參數後的表現"
   ]
  },
  {
   "cell_type": "code",
   "execution_count": null,
   "metadata": {},
   "outputs": [],
   "source": [
    "#測試樣本\n",
    "y_test_pred = model.predict(x_test)\n",
    "\n",
    "score = accuracy_score(y_test, y_test_pred)\n",
    "print('accuracy score: ', score)"
   ]
  },
  {
   "cell_type": "code",
   "execution_count": null,
   "metadata": {},
   "outputs": [],
   "source": [
    "#所有樣本\n",
    "y_all_pred = model.predict(x)\n",
    "\n",
    "score = accuracy_score(y, y_all_pred)\n",
    "print('accuracy score: ', score)"
   ]
  },
  {
   "cell_type": "markdown",
   "metadata": {},
   "source": [
    "## Hyperopt參數調整後的表現"
   ]
  },
  {
   "cell_type": "code",
   "execution_count": null,
   "metadata": {},
   "outputs": [],
   "source": [
    "#測試樣本\n",
    "y_test_pred = model.predict(x_test)\n",
    "\n",
    "score = accuracy_score(y_test, y_test_pred)\n",
    "print('accuracy score: ', score)"
   ]
  },
  {
   "cell_type": "code",
   "execution_count": null,
   "metadata": {},
   "outputs": [],
   "source": [
    "#所有樣本\n",
    "y_all_pred = model.predict(x)\n",
    "\n",
    "score = accuracy_score(y, y_all_pred)\n",
    "print('accuracy score: ', score)"
   ]
  },
  {
   "cell_type": "markdown",
   "metadata": {},
   "source": [
    "## 小結\n",
    "### 在同樣搜尋空間內，hyperopt得到的搜尋結果稍優於skopt。"
   ]
  }
 ],
 "metadata": {
  "kernelspec": {
   "display_name": "Python 3",
   "language": "python",
   "name": "python3"
  },
  "language_info": {
   "codemirror_mode": {
    "name": "ipython",
    "version": 3
   },
   "file_extension": ".py",
   "mimetype": "text/x-python",
   "name": "python",
   "nbconvert_exporter": "python",
   "pygments_lexer": "ipython3",
   "version": "3.6.4"
  },
  "widgets": {
   "state": {
    "c26d03b66add4e078d26695cab837033": {
     "views": [
      {
       "cell_index": 21
      }
     ]
    }
   },
   "version": "1.2.0"
  }
 },
 "nbformat": 4,
 "nbformat_minor": 2
}
