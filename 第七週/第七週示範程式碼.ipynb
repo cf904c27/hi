{
 "cells": [
  {
   "cell_type": "markdown",
   "metadata": {},
   "source": [
    "## 利用Keras預測玩家下月登入次數\n",
    "\n",
    "### 過程\n",
    "### 1. 讀取套件\n",
    "### 2. 讀取資料\n",
    "### 3. 使用groupby()、sum()，得出各帳號每月登入總次數\n",
    "### 4. 將各月登入次數表merge在一起\n",
    "### 5. 自定義 create_dataset()，轉換成時間序列分析所需的資料格式\n",
    "### 6. 使用Lstm作為預測模型的演算法\n",
    "### 7. 模型效能評估，使用RMSE、MAE，評估2018年05月份登入次數的預測誤差\n",
    "### 8. 利用線性回歸預測帳號流失月數"
   ]
  },
  {
   "cell_type": "code",
   "execution_count": null,
   "metadata": {},
   "outputs": [],
   "source": [
    "import warnings\n",
    "warnings.filterwarnings(\"ignore\")\n",
    "\n",
    "#######################################################################################\n",
    "import matplotlib\n",
    "import matplotlib.pyplot as plt\n",
    "#matplotlib內建不支援中文，解決辦法：每次預先指定字體\n",
    "matplotlib.rcParams.update({'font.size': 36})\n",
    "matplotlib.use('qt4agg')\n",
    "myfont = matplotlib.font_manager.FontProperties(fname='C:\\\\Windows\\\\Fonts\\\\msjh.ttc')\n",
    "#指定字體\n",
    "matplotlib.rcParams['axes.unicode_minus']=False\n",
    "\n",
    "from matplotlib.ticker import FormatStrFormatter\n",
    "majorFormatter = FormatStrFormatter('%0.f') #設定圖表浮點數的格式\n",
    "%matplotlib inline \n",
    "#繪圖完就直接顯示該圖，省略每次繪圖完都要輸入plt.show指令的動作\n",
    "#######################################################################################\n",
    "import seaborn as sns\n",
    "\n",
    "\n",
    "import numpy as np\n",
    "# 設定array的float格式\n",
    "float_formatter = lambda x: \"%.2f\" % x\n",
    "np.set_printoptions(formatter={'float_kind':float_formatter})\n",
    "import pandas as pd\n",
    "pd.set_option('display.max_columns', 100)  #設定可顯示欄位的上限\n",
    "pd.options.display.float_format = '{:,.6f}'.format  #設定浮點數的格式\n",
    "\n",
    "from sklearn.model_selection import train_test_split\n",
    "from sklearn.metrics import accuracy_score, mean_squared_error, mean_absolute_error\n",
    "from sklearn.linear_model import LinearRegression\n",
    "from sklearn.preprocessing import PolynomialFeatures"
   ]
  },
  {
   "cell_type": "code",
   "execution_count": null,
   "metadata": {},
   "outputs": [],
   "source": [
    "import keras\n",
    "from keras.models import Sequential\n",
    "from keras.layers import Dense, LSTM"
   ]
  },
  {
   "cell_type": "code",
   "execution_count": null,
   "metadata": {},
   "outputs": [],
   "source": [
    "col = ['accountid', '遊戲名稱', 'time', 'account', 'gamename_plus_time']"
   ]
  },
  {
   "cell_type": "code",
   "execution_count": null,
   "metadata": {},
   "outputs": [],
   "source": [
    "data1 = pd.read_table('LOGIN_W2_201706_201804.txt', encoding='utf8', names=col)\n",
    "data1.info()"
   ]
  },
  {
   "cell_type": "code",
   "execution_count": null,
   "metadata": {},
   "outputs": [],
   "source": [
    "data1['登入次數'] = 1\n",
    "data1.head()"
   ]
  },
  {
   "cell_type": "code",
   "execution_count": null,
   "metadata": {},
   "outputs": [],
   "source": [
    "data1['time'] = pd.to_datetime(data1['time'])"
   ]
  },
  {
   "cell_type": "code",
   "execution_count": null,
   "metadata": {},
   "outputs": [],
   "source": [
    "dataset = data1\n",
    "\n",
    "dataset['year'] = dataset.time.dt.year \n",
    "dataset['month'] = dataset.time.dt.month \n",
    "\n",
    "dataset.head(1)"
   ]
  },
  {
   "cell_type": "code",
   "execution_count": null,
   "metadata": {},
   "outputs": [],
   "source": [
    "dataset = dataset.drop(['遊戲名稱', 'gamename_plus_time', 'accountid'], axis=1)\n",
    "dataset.head(1)"
   ]
  },
  {
   "cell_type": "code",
   "execution_count": null,
   "metadata": {},
   "outputs": [],
   "source": [
    "dataset.info()"
   ]
  },
  {
   "cell_type": "markdown",
   "metadata": {},
   "source": [
    "## 使用grouby()計算出各帳號在每月登入總次數"
   ]
  },
  {
   "cell_type": "code",
   "execution_count": null,
   "metadata": {},
   "outputs": [],
   "source": [
    "df = dataset\n",
    "\n",
    "df_201706 =  df[(df['year'] == 2017) & (df['month'] == 6)]\n",
    "df_201707 =  df[(df['year'] == 2017) & (df['month'] == 7)]\n",
    "df_201708 =  df[(df['year'] == 2017) & (df['month'] == 8)]\n",
    "df_201709 =  df[(df['year'] == 2017) & (df['month'] == 9)]\n",
    "df_201710 =  df[(df['year'] == 2017) & (df['month'] == 10)]\n",
    "df_201711 =  df[(df['year'] == 2017) & (df['month'] == 11)]\n",
    "df_201712 =  df[(df['year'] == 2017) & (df['month'] == 12)]\n",
    "df_201801 =  df[(df['year'] == 2018) & (df['month'] == 1)]\n",
    "df_201802 =  df[(df['year'] == 2018) & (df['month'] == 2)]\n",
    "df_201803 =  df[(df['year'] == 2018) & (df['month'] == 3)]\n",
    "df_201804 =  df[(df['year'] == 2018) & (df['month'] == 4)]"
   ]
  },
  {
   "cell_type": "code",
   "execution_count": null,
   "metadata": {},
   "outputs": [],
   "source": [
    "df_201706 = df_201706.groupby(['account'])['登入次數'].sum()\n",
    "df_201706 = pd.DataFrame(df_201706)\n",
    "df_201706.rename(columns={'登入次數': 'num_201706'}, inplace=True)\n",
    "\n",
    "df_201707 = df_201707.groupby(['account'])['登入次數'].sum()\n",
    "df_201707 = pd.DataFrame(df_201707)\n",
    "df_201707.rename(columns={'登入次數': 'num_201707'}, inplace=True)\n",
    "\n",
    "df_201708 = df_201708.groupby(['account'])['登入次數'].sum()\n",
    "df_201708 = pd.DataFrame(df_201708)\n",
    "df_201708.rename(columns={'登入次數': 'num_201708'}, inplace=True)\n",
    "\n",
    "df_201709 = df_201709.groupby(['account'])['登入次數'].sum()\n",
    "df_201709 = pd.DataFrame(df_201709)\n",
    "df_201709.rename(columns={'登入次數': 'num_201709'}, inplace=True)\n",
    "\n",
    "df_201710 = df_201710.groupby(['account'])['登入次數'].sum()\n",
    "df_201710 = pd.DataFrame(df_201710)\n",
    "df_201710.rename(columns={'登入次數': 'num_201710'}, inplace=True)\n",
    "\n",
    "df_201711 = df_201711.groupby(['account'])['登入次數'].sum()\n",
    "df_201711 = pd.DataFrame(df_201711)\n",
    "df_201711.rename(columns={'登入次數': 'num_201711'}, inplace=True)\n",
    "\n",
    "df_201712 = df_201712.groupby(['account'])['登入次數'].sum()\n",
    "df_201712 = pd.DataFrame(df_201712)\n",
    "df_201712.rename(columns={'登入次數': 'num_201712'}, inplace=True)\n",
    "\n",
    "df_201801 = df_201801.groupby(['account'])['登入次數'].sum()\n",
    "df_201801 = pd.DataFrame(df_201801)\n",
    "df_201801.rename(columns={'登入次數': 'num_201801'}, inplace=True)\n",
    "\n",
    "df_201802 = df_201802.groupby(['account'])['登入次數'].sum()\n",
    "df_201802 = pd.DataFrame(df_201802)\n",
    "df_201802.rename(columns={'登入次數': 'num_201802'}, inplace=True)\n",
    "\n",
    "df_201803 = df_201803.groupby(['account'])['登入次數'].sum()\n",
    "df_201803 = pd.DataFrame(df_201803)\n",
    "df_201803.rename(columns={'登入次數': 'num_201803'}, inplace=True)\n",
    "\n",
    "df_201804 = df_201804.groupby(['account'])['登入次數'].sum()\n",
    "df_201804 = pd.DataFrame(df_201804)\n",
    "df_201804.rename(columns={'登入次數': 'num_201804'}, inplace=True)"
   ]
  },
  {
   "cell_type": "code",
   "execution_count": null,
   "metadata": {},
   "outputs": [],
   "source": [
    "data2 = pd.read_table('LOGIN_W2_201712_201805.txt', encoding='utf8', names=col)\n",
    "data2.info()"
   ]
  },
  {
   "cell_type": "code",
   "execution_count": null,
   "metadata": {},
   "outputs": [],
   "source": [
    "data2['登入次數'] = 1\n",
    "data2['time'] = pd.to_datetime(data2['time'])\n",
    "data2.head()"
   ]
  },
  {
   "cell_type": "code",
   "execution_count": null,
   "metadata": {},
   "outputs": [],
   "source": [
    "dataset = data2\n",
    "\n",
    "dataset['year'] = dataset.time.dt.year \n",
    "dataset['month'] = dataset.time.dt.month \n",
    "dataset = dataset.drop(['遊戲名稱', 'gamename_plus_time', 'accountid'], axis=1)\n",
    "\n",
    "dataset.head(1)"
   ]
  },
  {
   "cell_type": "code",
   "execution_count": null,
   "metadata": {},
   "outputs": [],
   "source": [
    "dataset.info()"
   ]
  },
  {
   "cell_type": "code",
   "execution_count": null,
   "metadata": {},
   "outputs": [],
   "source": [
    "df_201805 = dataset[(dataset['year'] == 2018) & (dataset['month'] == 5)]"
   ]
  },
  {
   "cell_type": "code",
   "execution_count": null,
   "metadata": {},
   "outputs": [],
   "source": [
    "df_201805 = df_201805.groupby(['account'])['登入次數'].sum()\n",
    "df_201805 = pd.DataFrame(df_201805)\n",
    "df_201805.rename(columns={'登入次數': 'num_201805'}, inplace=True)"
   ]
  },
  {
   "cell_type": "markdown",
   "metadata": {},
   "source": [
    "## 帳號的每月登入次數表"
   ]
  },
  {
   "cell_type": "code",
   "execution_count": null,
   "metadata": {},
   "outputs": [],
   "source": [
    "dataframe = [df_201708,df_201709,df_201710,df_201711, df_201712, df_201801, df_201802,df_201803, df_201804, df_201805]"
   ]
  },
  {
   "cell_type": "code",
   "execution_count": null,
   "metadata": {},
   "outputs": [],
   "source": [
    "full_data = pd.merge(df_201706, df_201707, left_index=True, right_index=True, how='outer')\n",
    "for i in dataframe:\n",
    "    full_data = pd.merge(full_data, i, left_index=True, right_index=True, how='outer')"
   ]
  },
  {
   "cell_type": "code",
   "execution_count": null,
   "metadata": {},
   "outputs": [],
   "source": [
    "full_data = full_data[~full_data.index.duplicated(keep='last')]\n",
    "full_data.index.shape"
   ]
  },
  {
   "cell_type": "code",
   "execution_count": null,
   "metadata": {},
   "outputs": [],
   "source": [
    "full_data = full_data.replace(np.nan, 0, regex=True)\n",
    "full_data.head()"
   ]
  },
  {
   "cell_type": "code",
   "execution_count": null,
   "metadata": {},
   "outputs": [],
   "source": [
    "full_data.describe()"
   ]
  },
  {
   "cell_type": "code",
   "execution_count": null,
   "metadata": {},
   "outputs": [],
   "source": [
    "full_data.info()"
   ]
  },
  {
   "cell_type": "code",
   "execution_count": null,
   "metadata": {},
   "outputs": [],
   "source": []
  },
  {
   "cell_type": "code",
   "execution_count": null,
   "metadata": {},
   "outputs": [],
   "source": []
  },
  {
   "cell_type": "code",
   "execution_count": null,
   "metadata": {},
   "outputs": [],
   "source": [
    "X = full_data.iloc[2,:-1]\n",
    "X"
   ]
  },
  {
   "cell_type": "code",
   "execution_count": null,
   "metadata": {},
   "outputs": [],
   "source": [
    "plt.plot(X)\n",
    "plt.xticks(rotation=90)"
   ]
  },
  {
   "cell_type": "markdown",
   "metadata": {},
   "source": [
    "## 創建訓練樣本\n",
    "### 使用201706~201804月份的數據\n",
    "\n",
    "### 訓練時使用201706~201803月份去預測201804月份\n",
    "### 根據前六個月的資料預測下一月份"
   ]
  },
  {
   "cell_type": "code",
   "execution_count": null,
   "metadata": {},
   "outputs": [],
   "source": [
    "train = full_data.iloc[:, :-1] #排除201805\n",
    "train.head(1)"
   ]
  },
  {
   "cell_type": "code",
   "execution_count": null,
   "metadata": {},
   "outputs": [],
   "source": [
    "\n",
    "def create_dataset(look_back=1):\n",
    "    dataX, dataY = [], []\n",
    "    for i in range(len(train.index)):\n",
    "        X = train.iloc[i, :].values \n",
    "        X = X.reshape(-1,1)\n",
    "        for i in range(len(X) - look_back):\n",
    "            a = X[i:(i + look_back)]\n",
    "            dataX.append(a)\n",
    "            dataY.append(X[i + look_back])\n",
    "    return np.array(dataX), np.array(dataY)\n"
   ]
  },
  {
   "cell_type": "code",
   "execution_count": null,
   "metadata": {},
   "outputs": [],
   "source": [
    "\n",
    "lookback = 3\n",
    "train_x, train_y = create_dataset(lookback)\n",
    "train_x = np.reshape(train_x, (train_x.shape[0], train_x.shape[1], 1))\n",
    "\n",
    "print(train_x.shape, train_y.shape)\n"
   ]
  },
  {
   "cell_type": "code",
   "execution_count": null,
   "metadata": {},
   "outputs": [],
   "source": []
  },
  {
   "cell_type": "code",
   "execution_count": null,
   "metadata": {},
   "outputs": [],
   "source": []
  },
  {
   "cell_type": "code",
   "execution_count": null,
   "metadata": {
    "scrolled": true
   },
   "outputs": [],
   "source": [
    "\n",
    "model = Sequential()\n",
    "model.add(LSTM(32,input_shape=(train_x.shape[1], train_x.shape[2]), return_sequences=True))\n",
    "model.add(LSTM(16))\n",
    "model.add(Dense(1))\n",
    "model.compile(loss='mae', optimizer='adam')\n",
    "history = model.fit(train_x, train_y, epochs=1, batch_size=64, verbose=1, shuffle=False)\n"
   ]
  },
  {
   "cell_type": "code",
   "execution_count": null,
   "metadata": {},
   "outputs": [],
   "source": [
    "\n",
    "plt.plot(history.history['loss'])\n",
    "plt.ylabel('loss')\n",
    "plt.xlabel('epoch')\n",
    "plt.legend(['train'], loc='best')\n"
   ]
  },
  {
   "cell_type": "markdown",
   "metadata": {},
   "source": [
    "## LSTM模型預測 5月份登入次數"
   ]
  },
  {
   "cell_type": "code",
   "execution_count": null,
   "metadata": {
    "scrolled": true
   },
   "outputs": [],
   "source": [
    "\n",
    "%%time\n",
    "prediction = []\n",
    "\n",
    "for i in range(len(train.index)):\n",
    "    data = train.iloc[i,:] \n",
    "    topred = data[-lookback:] \n",
    "    topred = topred.reshape(1,topred.shape[0], 1)\n",
    "    yhat = model.predict(topred)\n",
    "    yhat = yhat.reshape(-1)\n",
    "    yhat = yhat.tolist()\n",
    "    \n",
    "    prediction.append(yhat[0])\n"
   ]
  },
  {
   "cell_type": "code",
   "execution_count": null,
   "metadata": {},
   "outputs": [],
   "source": [
    "prediction = np.array(prediction)"
   ]
  },
  {
   "cell_type": "markdown",
   "metadata": {},
   "source": [
    "## 模型評估"
   ]
  },
  {
   "cell_type": "code",
   "execution_count": null,
   "metadata": {},
   "outputs": [],
   "source": [
    "y_true = full_data['num_201805'].values"
   ]
  },
  {
   "cell_type": "code",
   "execution_count": null,
   "metadata": {},
   "outputs": [],
   "source": [
    "# RMSE\n",
    "score = np.sqrt(mean_squared_error(y_true, prediction))\n",
    "score"
   ]
  },
  {
   "cell_type": "code",
   "execution_count": null,
   "metadata": {},
   "outputs": [],
   "source": [
    "# MAE\n",
    "score = mean_absolute_error(y_true, np.round(prediction))\n",
    "score"
   ]
  },
  {
   "cell_type": "code",
   "execution_count": null,
   "metadata": {},
   "outputs": [],
   "source": [
    "score = np.sqrt(mean_squared_error(y_true, np.round(prediction)))\n",
    "score"
   ]
  },
  {
   "cell_type": "markdown",
   "metadata": {},
   "source": [
    "## Sklearn線性回歸\n",
    "### 繪製各帳號的回歸線，並依斜率判斷帳號登入次數趨勢是上升還是下降"
   ]
  },
  {
   "cell_type": "code",
   "execution_count": null,
   "metadata": {},
   "outputs": [],
   "source": [
    "def cre_dataset(x):\n",
    "    dataX, dataY = [], []\n",
    "    for i in range(len(x)):\n",
    "        a = i\n",
    "        dataX.append(a)\n",
    "        dataY.append(x[i])\n",
    "    return np.array(dataX), np.array(dataY)"
   ]
  },
  {
   "cell_type": "code",
   "execution_count": null,
   "metadata": {},
   "outputs": [],
   "source": [
    "model01 = LinearRegression()"
   ]
  },
  {
   "cell_type": "code",
   "execution_count": null,
   "metadata": {},
   "outputs": [],
   "source": [
    "\n",
    "%%time\n",
    "\n",
    "coefficient = []\n",
    "\n",
    "for i in range(len(full_data.index)):\n",
    "    data = full_data.iloc[i,:]\n",
    "    train_x, train_y = cre_dataset(data)\n",
    "    train_x = train_x.reshape(-1,1)\n",
    "    \n",
    "    model01.fit(train_x, train_y)\n",
    "    coef = model01.coef_\n",
    "    coefficient.append(coef)\n"
   ]
  },
  {
   "cell_type": "code",
   "execution_count": null,
   "metadata": {},
   "outputs": [],
   "source": [
    "dd = full_data.iloc[2,:]\n",
    "train_x, train_y = cre_dataset(dd)\n",
    "train_x = train_x.reshape(-1,1)\n",
    "\n",
    "model01.fit(train_x, train_y)\n",
    "trend = model01.predict(train_x)\n",
    "\n",
    "print('coef:', model01.coef_[0])\n",
    "plt.plot(train_y)\n",
    "plt.plot(trend)\n",
    "plt.title('歷史登入次數', fontproperties=myfont, fontsize=20)\n",
    "plt.xlabel('時間(單位:月)', fontproperties=myfont, fontsize=16)\n",
    "plt.ylabel('登入次數', fontproperties=myfont, fontsize=16)\n",
    "\n",
    "plt.legend(['true', 'prediction'], loc='best')"
   ]
  },
  {
   "cell_type": "code",
   "execution_count": null,
   "metadata": {},
   "outputs": [],
   "source": [
    "#挑出登入趨勢下降的帳號\n",
    "churn_dataset = full_data.copy()\n",
    "churn_dataset['coef'] = coefficient\n",
    "churn_dataset = churn_dataset[churn_dataset['coef'] < 0]"
   ]
  },
  {
   "cell_type": "code",
   "execution_count": null,
   "metadata": {},
   "outputs": [],
   "source": [
    "churn_dataset.info()"
   ]
  },
  {
   "cell_type": "markdown",
   "metadata": {},
   "source": [
    "## 依回歸線與X軸的交點推斷出帳號流失的月份"
   ]
  },
  {
   "cell_type": "code",
   "execution_count": null,
   "metadata": {},
   "outputs": [],
   "source": [
    "%%time\n",
    "\n",
    "x_test = np.array([13,14,15,16,17,18,19,20,21,22,23,24,25,26,27,28,29,30])\n",
    "x_test = x_test.reshape(-1,1)\n",
    "\n",
    "churn_month = []\n",
    "for i in range(len(churn_dataset.index)):\n",
    "    data = churn_dataset.iloc[i,:]\n",
    "    train_x, train_y = cre_dataset(data)\n",
    "    train_x = train_x.reshape(-1,1)\n",
    "    quadratic_featurizer = PolynomialFeatures(degree=2)\n",
    "\n",
    "    X_train = quadratic_featurizer.fit_transform(train_x)\n",
    "\n",
    "    regressor = LinearRegression()\n",
    "    regressor.fit(X_train, train_y)\n",
    "    \n",
    "    X_test = quadratic_featurizer.fit_transform(x_test)\n",
    "    trend = regressor.predict(X_test)\n",
    "    \n",
    "    month = 0\n",
    "    for j in range(len(trend)):\n",
    "        if trend[j] > 0:\n",
    "            month += 1\n",
    "        elif trend[j] <= 0:\n",
    "            churn_month.append(month)\n",
    "            break\n",
    "        "
   ]
  },
  {
   "cell_type": "code",
   "execution_count": null,
   "metadata": {},
   "outputs": [],
   "source": [
    "len(churn_month)"
   ]
  },
  {
   "cell_type": "code",
   "execution_count": null,
   "metadata": {},
   "outputs": [],
   "source": [
    "dd = churn_dataset.iloc[2,:]\n",
    "train_x, train_y = cre_dataset(dd)\n",
    "train_x = train_x.reshape(-1,1)\n",
    "\n",
    "quadratic_featurizer = PolynomialFeatures(degree=2)\n",
    "\n",
    "X_train = quadratic_featurizer.fit_transform(train_x)\n",
    "regressor = LinearRegression()\n",
    "regressor.fit(X_train, train_y)\n",
    "X_test = quadratic_featurizer.fit_transform(x_test)\n",
    "trend = regressor.predict(X_train)\n",
    "\n",
    "plt.plot(train_y)\n",
    "plt.plot(trend)\n",
    "plt.title('歷史登入次數', fontproperties=myfont, fontsize=20)\n",
    "plt.xlabel('時間(單位:月)', fontproperties=myfont, fontsize=16)\n",
    "plt.ylabel('登入次數', fontproperties=myfont, fontsize=16)\n"
   ]
  },
  {
   "cell_type": "code",
   "execution_count": null,
   "metadata": {},
   "outputs": [],
   "source": [
    "churn_dataset['流失月數預測'] = churn_month\n",
    "churn_dataset = churn_dataset[['流失月數預測']]"
   ]
  },
  {
   "cell_type": "code",
   "execution_count": null,
   "metadata": {},
   "outputs": [],
   "source": [
    "churn_dataset.head()"
   ]
  },
  {
   "cell_type": "code",
   "execution_count": null,
   "metadata": {},
   "outputs": [],
   "source": [
    "full_data = pd.merge(full_data, churn_dataset,left_index=True, right_index=True, how='outer')\n",
    "full_data = full_data.fillna(full_data.流失月數預測.max()) #遺失值用最大值填補\n",
    "full_data.head(2)"
   ]
  },
  {
   "cell_type": "markdown",
   "metadata": {},
   "source": [
    "## 預測2018年06月份登入次數"
   ]
  },
  {
   "cell_type": "code",
   "execution_count": null,
   "metadata": {},
   "outputs": [],
   "source": [
    "\n",
    "%%time\n",
    "pred_201806 = []\n",
    "\n",
    "for i in range(len(full_data.index)):\n",
    "    data = full_data.values\n",
    "    topred = data[i, -lookback:]\n",
    "    topred = topred.reshape(1,topred.shape[0], 1)\n",
    "    yhat = model.predict(topred)\n",
    "    yhat = yhat.reshape(-1)\n",
    "    yhat = yhat.tolist()\n",
    "    \n",
    "    pred_201806.append(yhat[0])\n"
   ]
  },
  {
   "cell_type": "code",
   "execution_count": null,
   "metadata": {},
   "outputs": [],
   "source": [
    "result = pd.DataFrame({'登入趨勢': coefficient,\n",
    "                       '下月登入次數預測': np.round(pred_201806),\n",
    "                       '遊戲帳號': full_data.index.values,\n",
    "                       '流失月數預測': full_data.流失月數預測.values})"
   ]
  },
  {
   "cell_type": "code",
   "execution_count": null,
   "metadata": {},
   "outputs": [],
   "source": [
    "result.loc[(result['下月登入次數預測'] < 0), '下月登入次數預測']= 0"
   ]
  },
  {
   "cell_type": "code",
   "execution_count": null,
   "metadata": {},
   "outputs": [],
   "source": [
    "# 3代表上升 2代表持平 1代表下降\n",
    "result.loc[(result['登入趨勢'] > 0), '登入趨勢']= 3\n",
    "result.loc[(result['登入趨勢'] == 0), '登入趨勢']= 2\n",
    "result.loc[(result['登入趨勢'] < 0), '登入趨勢']= 1"
   ]
  },
  {
   "cell_type": "code",
   "execution_count": null,
   "metadata": {},
   "outputs": [],
   "source": [
    "full_data.head()"
   ]
  },
  {
   "cell_type": "code",
   "execution_count": null,
   "metadata": {},
   "outputs": [],
   "source": [
    "result.head()"
   ]
  },
  {
   "cell_type": "code",
   "execution_count": null,
   "metadata": {},
   "outputs": [],
   "source": []
  },
  {
   "cell_type": "code",
   "execution_count": null,
   "metadata": {},
   "outputs": [],
   "source": [
    "#輸出成csv檔\n",
    "#result.to_csv('pred.csv', encoding='utf_8', index=False)"
   ]
  },
  {
   "cell_type": "code",
   "execution_count": null,
   "metadata": {},
   "outputs": [],
   "source": []
  },
  {
   "cell_type": "code",
   "execution_count": null,
   "metadata": {},
   "outputs": [],
   "source": []
  }
 ],
 "metadata": {
  "kernelspec": {
   "display_name": "Python 3",
   "language": "python",
   "name": "python3"
  },
  "language_info": {
   "codemirror_mode": {
    "name": "ipython",
    "version": 3
   },
   "file_extension": ".py",
   "mimetype": "text/x-python",
   "name": "python",
   "nbconvert_exporter": "python",
   "pygments_lexer": "ipython3",
   "version": "3.6.4"
  }
 },
 "nbformat": 4,
 "nbformat_minor": 2
}
