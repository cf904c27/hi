{
 "cells": [
  {
   "cell_type": "code",
   "execution_count": null,
   "metadata": {},
   "outputs": [],
   "source": [
    "import requests\n",
    "from bs4 import BeautifulSoup\n",
    "import time\n",
    "import random\n",
    "\n",
    "\n",
    "# 進度條\n",
    "def printProgress(iteration, total, prefix='', suffix='', decimals=1, barLength=100):\n",
    "    import sys\n",
    "    formatStr = \"{0:.\" + str(decimals) + \"f}\"\n",
    "    percent = formatStr.format(100 * (iteration / float(total)))\n",
    "    filledLength = int(round(barLength * iteration / float(total)))\n",
    "    bar = '#' * filledLength + '-' * (barLength - filledLength)\n",
    "    sys.stdout.write('\\r%s |%s| %s%s %s' % (prefix, bar, percent, '%', suffix)),\n",
    "    if iteration == total:\n",
    "        sys.stdout.write('\\n')\n",
    "    sys.stdout.flush()\n"
   ]
  },
  {
   "cell_type": "code",
   "execution_count": null,
   "metadata": {},
   "outputs": [],
   "source": [
    "search = '智冠科技'   # 請輸入關鍵字"
   ]
  },
  {
   "cell_type": "markdown",
   "metadata": {},
   "source": [
    "### 爬取判決書網址"
   ]
  },
  {
   "cell_type": "code",
   "execution_count": null,
   "metadata": {},
   "outputs": [],
   "source": [
    "headers={'user-agent': 'Mozilla/5.0 (Windows NT 6.1) AppleWebKit/537.36 (KHTML, like Gecko) Chrome/52.0.2743.116 Safari/537.36'}\n",
    "url=[]\n",
    "\n",
    "\n",
    "page = 1                                                                                # 先爬第一頁\n",
    "http = 'https://www.lawsq.com/q.aspx?page=' + str(page) + '&q=' + search\n",
    "res = requests.get(http, headers=headers)\n",
    "    \n",
    "soup = BeautifulSoup(res.text,'lxml')\n",
    "for ele in soup.find_all('table', class_='table table-striped '):\n",
    "    for a in ele.find_all('a'):\n",
    "        url.append(a.get('href'))\n",
    "\n",
    "print('爬取判決書網址第1頁')\n",
    "page += 1\n",
    "\n",
    "\n",
    "while True:                                                                             # 第二頁之後進入迴圈\n",
    "    \n",
    "    http = 'https://www.lawsq.com/q.aspx?page=' + str(page) + '&q=' + search\n",
    "    res = requests.get(http, headers=headers)\n",
    "    \n",
    "    soup = BeautifulSoup(res.text,'lxml')\n",
    "    for ele in soup.find_all('table', class_='table table-striped '):\n",
    "        for a in ele.find_all('a'):\n",
    "            url.append(a.get('href'))\n",
    "            \n",
    "    random_time = random.randint(2,4)\n",
    "    time.sleep(random_time)     \n",
    "\n",
    "    print('爬取判決書網址第'+str(page)+'頁')\n",
    "\n",
    "    last_page = len(soup.find_all(class_='btn btn-primary btn-lg disabled'))            # 最後一頁的灰按鈕是否有出現\n",
    "    if last_page == 1 :\n",
    "        break\n",
    "    else:\n",
    "        page += 1"
   ]
  },
  {
   "cell_type": "code",
   "execution_count": null,
   "metadata": {},
   "outputs": [],
   "source": [
    "url = ['https://www.lawsq.com'+i for i in url]"
   ]
  },
  {
   "cell_type": "markdown",
   "metadata": {},
   "source": [
    "### 爬取所有判決書內容"
   ]
  },
  {
   "cell_type": "code",
   "execution_count": null,
   "metadata": {},
   "outputs": [],
   "source": [
    "l=len(url)\n",
    "progress = 0\n",
    "printProgress(progress, l, prefix='爬取進度:', suffix='完成', barLength=50)\n",
    "\n",
    "data=[]\n",
    "\n",
    "for i in url:\n",
    "    res2 = requests.get(i, headers=headers)\n",
    "    soup = BeautifulSoup(res2.text,'lxml')\n",
    "    \n",
    "    for ele in soup.find_all(class_='wrapperc'):\n",
    "        data.append(ele.text)\n",
    "    \n",
    "    random_time = random.randint(2,3)\n",
    "    time.sleep(random_time)\n",
    "    \n",
    "    progress += 1\n",
    "    printProgress(progress, l, prefix='爬取進度:', suffix='完成', barLength=50)"
   ]
  },
  {
   "cell_type": "markdown",
   "metadata": {},
   "source": [
    "### 存檔"
   ]
  },
  {
   "cell_type": "code",
   "execution_count": null,
   "metadata": {},
   "outputs": [],
   "source": [
    "LAWSOList = open('LAWSO_Crawler_智冠科技.txt', 'w', encoding='utf-8' )\n",
    "for i in data:\n",
    "    LAWSOList.write(i)\n",
    "    \n",
    "LAWSOList.close()"
   ]
  }
 ],
 "metadata": {
  "kernelspec": {
   "display_name": "Python 3",
   "language": "python",
   "name": "python3"
  },
  "language_info": {
   "codemirror_mode": {
    "name": "ipython",
    "version": 3
   },
   "file_extension": ".py",
   "mimetype": "text/x-python",
   "name": "python",
   "nbconvert_exporter": "python",
   "pygments_lexer": "ipython3",
   "version": "3.6.5"
  }
 },
 "nbformat": 4,
 "nbformat_minor": 2
}
