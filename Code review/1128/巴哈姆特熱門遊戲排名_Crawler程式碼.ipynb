{
 "cells": [
  {
   "cell_type": "code",
   "execution_count": 1,
   "metadata": {},
   "outputs": [],
   "source": [
    "from selenium import webdriver  # 動態爬蟲套件\n",
    "from bs4 import BeautifulSoup   # 原始碼解析器\n",
    "\n",
    "import re\n",
    "import pandas as pd\n",
    "import numpy as np"
   ]
  },
  {
   "cell_type": "markdown",
   "metadata": {},
   "source": [
    "## 巴哈爬蟲"
   ]
  },
  {
   "cell_type": "code",
   "execution_count": 2,
   "metadata": {},
   "outputs": [
    {
     "name": "stdout",
     "output_type": "stream",
     "text": [
      "Wall time: 4min 9s\n"
     ]
    }
   ],
   "source": [
    "%%time\n",
    "\n",
    "driver = webdriver.Chrome('C:\\ChromeDrive\\chromedriver.exe') # Chrome Driver的路徑\n",
    "driver.get('https://forum.gamer.com.tw/?c=94')               # 欲爬網址 (熱門手機遊戲)\n",
    "\n",
    "\n",
    "data = []\n",
    "url =[]\n",
    "\n",
    "for i in range(1, 279):  \n",
    "    \n",
    "    driver.find_element_by_link_text('清單').click()                          # 先點'清單 '\n",
    "    \n",
    "    soup = BeautifulSoup(driver.page_source, 'html.parser')\n",
    "    for ele in soup.select('.BH-table'):                                     # 指定元素:巴哈中間的內容，爬完存到 data裡\n",
    "        data.append(ele.text)\n",
    "    \n",
    "    for ele in soup.find_all('table', class_='BH-table BH-table1'):          # 指定元素內所有的超連結，爬完存到 url裡\n",
    "        for a in ele.find_all('a'):\n",
    "            url.append(a.get('href'))\n",
    "\n",
    "    driver.find_element_by_class_name('next').click()                        # 點下一頁\n",
    "\n",
    "    \n",
    "driver.close()                                              #關閉 Chrome Driver"
   ]
  },
  {
   "cell_type": "markdown",
   "metadata": {},
   "source": [
    "## 資料整理"
   ]
  },
  {
   "cell_type": "code",
   "execution_count": 3,
   "metadata": {},
   "outputs": [],
   "source": [
    "# 處理 data list\n",
    "\n",
    "\n",
    "# 將遊戲排名換為自訂標記，並依照標記將各遊戲資訊分開\n",
    "\n",
    "str1 = ''.join(data)\n",
    "list1 = re.sub('  \\d ',' xxxxx ',str1)\n",
    "list1 = re.sub('  \\d\\d ',' xxxxx ',list1)\n",
    "list1 = re.sub('  \\d\\d\\d ',' xxxxx ',list1)\n",
    "list1 = re.sub('  \\d\\d\\d\\d ',' xxxxx ',list1)\n",
    "list1 = list1.split(' xxxxx ')\n",
    "\n",
    "A = [list1[i:i+1] for i in range(0,len(list1),1)]\n",
    "\n",
    "\n",
    "# 將各遊戲資訊存成 list\n",
    "\n",
    "Title=[]\n",
    "for i in A:\n",
    "    str2=''.join(i)\n",
    "    B = str2[str2.find(' xxxxx ')+1 : str2.find('  ')]\n",
    "    Title.append(B)\n",
    "Title.remove('')\n",
    "    \n",
    "Popular_articles = []\n",
    "for i in A:\n",
    "    str2=''.join(i)\n",
    "    C = str2[str2.find('  ') : str2.find('板主')-2]\n",
    "    Popular_articles.append(C)\n",
    "Popular_articles.remove('')\n",
    "    \n",
    "Popularity=[]\n",
    "for i in A:\n",
    "    str2=''.join(i)\n",
    "    D = str2[str2.find('昨日人氣：')+5 : str2.find('昨日文章')-2]\n",
    "    Popularity.append(D)\n",
    "Popularity.remove('')\n",
    "    \n",
    "Articles = []\n",
    "for i in A:\n",
    "    str2=''.join(i)\n",
    "    E = str2[str2.find('昨日文章：')+5 :]\n",
    "    Articles.append(E)\n",
    "Articles.remove('')\n"
   ]
  },
  {
   "cell_type": "code",
   "execution_count": 4,
   "metadata": {
    "scrolled": true
   },
   "outputs": [],
   "source": [
    "# 處理 url list\n",
    "\n",
    "del url[0]\n",
    "del url[1::2]\n",
    "url = ['https://forum.gamer.com.tw/'+i for i in url]"
   ]
  },
  {
   "cell_type": "code",
   "execution_count": 5,
   "metadata": {
    "scrolled": true
   },
   "outputs": [],
   "source": [
    "df1 = pd.DataFrame(Title,columns = ['遊戲名稱'])\n",
    "df2 = pd.DataFrame(Popular_articles,columns = ['熱門文章'])\n",
    "df3 = pd.DataFrame(url,columns = ['熱門文章連結'])\n",
    "df4 = pd.DataFrame(Popularity,columns = ['昨日人氣'])\n",
    "df5 = pd.DataFrame(Articles,columns = ['昨日文章數'])\n",
    "\n",
    "df = pd.concat([df1, df2, df3, df4, df5], axis=1, sort=False)"
   ]
  },
  {
   "cell_type": "code",
   "execution_count": 7,
   "metadata": {},
   "outputs": [
    {
     "data": {
      "text/html": [
       "<div>\n",
       "<style scoped>\n",
       "    .dataframe tbody tr th:only-of-type {\n",
       "        vertical-align: middle;\n",
       "    }\n",
       "\n",
       "    .dataframe tbody tr th {\n",
       "        vertical-align: top;\n",
       "    }\n",
       "\n",
       "    .dataframe thead th {\n",
       "        text-align: right;\n",
       "    }\n",
       "</style>\n",
       "<table border=\"1\" class=\"dataframe\">\n",
       "  <thead>\n",
       "    <tr style=\"text-align: right;\">\n",
       "      <th></th>\n",
       "      <th>遊戲名稱</th>\n",
       "      <th>熱門文章</th>\n",
       "      <th>熱門文章連結</th>\n",
       "      <th>昨日人氣</th>\n",
       "      <th>昨日文章數</th>\n",
       "    </tr>\n",
       "  </thead>\n",
       "  <tbody>\n",
       "    <tr>\n",
       "      <th>8335</th>\n",
       "      <td>100 日公主◆美男宮殿現代樂章</td>\n",
       "      <td>-------</td>\n",
       "      <td>https://forum.gamer.com.tw/A.php?bsn=31648</td>\n",
       "      <td>1</td>\n",
       "      <td>0</td>\n",
       "    </tr>\n",
       "    <tr>\n",
       "      <th>8336</th>\n",
       "      <td>英雄樂園</td>\n",
       "      <td>-------</td>\n",
       "      <td>https://forum.gamer.com.tw/A.php?bsn=35526</td>\n",
       "      <td>0</td>\n",
       "      <td>0</td>\n",
       "    </tr>\n",
       "    <tr>\n",
       "      <th>8337</th>\n",
       "      <td>狐姬零</td>\n",
       "      <td>-------</td>\n",
       "      <td>https://forum.gamer.com.tw/A.php?bsn=35523</td>\n",
       "      <td>0</td>\n",
       "      <td>0</td>\n",
       "    </tr>\n",
       "    <tr>\n",
       "      <th>8338</th>\n",
       "      <td>刷牙勇者</td>\n",
       "      <td>-------</td>\n",
       "      <td>https://forum.gamer.com.tw/A.php?bsn=35525</td>\n",
       "      <td>0</td>\n",
       "      <td>0</td>\n",
       "    </tr>\n",
       "    <tr>\n",
       "      <th>8339</th>\n",
       "      <td>Triple Agent 三面間諜</td>\n",
       "      <td>-------</td>\n",
       "      <td>https://forum.gamer.com.tw/A.php?bsn=35520</td>\n",
       "      <td>0</td>\n",
       "      <td>0</td>\n",
       "    </tr>\n",
       "  </tbody>\n",
       "</table>\n",
       "</div>"
      ],
      "text/plain": [
       "                   遊戲名稱       熱門文章  \\\n",
       "8335   100 日公主◆美男宮殿現代樂章    -------   \n",
       "8336               英雄樂園    -------   \n",
       "8337                狐姬零    -------   \n",
       "8338               刷牙勇者    -------   \n",
       "8339  Triple Agent 三面間諜    -------   \n",
       "\n",
       "                                          熱門文章連結 昨日人氣 昨日文章數  \n",
       "8335  https://forum.gamer.com.tw/A.php?bsn=31648   1      0  \n",
       "8336  https://forum.gamer.com.tw/A.php?bsn=35526   0      0  \n",
       "8337  https://forum.gamer.com.tw/A.php?bsn=35523   0      0  \n",
       "8338  https://forum.gamer.com.tw/A.php?bsn=35525   0      0  \n",
       "8339  https://forum.gamer.com.tw/A.php?bsn=35520   0      0  "
      ]
     },
     "execution_count": 7,
     "metadata": {},
     "output_type": "execute_result"
    }
   ],
   "source": [
    "df.tail(5)"
   ]
  },
  {
   "cell_type": "code",
   "execution_count": 8,
   "metadata": {},
   "outputs": [],
   "source": [
    "df.index = df.index + 1\n",
    "df.to_csv('巴哈姆特手遊排名_20181102.csv', encoding='utf_8_sig')"
   ]
  }
 ],
 "metadata": {
  "kernelspec": {
   "display_name": "Python 3",
   "language": "python",
   "name": "python3"
  },
  "language_info": {
   "codemirror_mode": {
    "name": "ipython",
    "version": 3
   },
   "file_extension": ".py",
   "mimetype": "text/x-python",
   "name": "python",
   "nbconvert_exporter": "python",
   "pygments_lexer": "ipython3",
   "version": "3.6.5"
  }
 },
 "nbformat": 4,
 "nbformat_minor": 2
}
