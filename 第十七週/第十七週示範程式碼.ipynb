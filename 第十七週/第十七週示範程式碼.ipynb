{
 "cells": [
  {
   "cell_type": "markdown",
   "metadata": {},
   "source": [
    "# 利用Keras對完美世界玩家做用戶活躍程度衰退預警"
   ]
  },
  {
   "cell_type": "markdown",
   "metadata": {},
   "source": [
    "## import 套件"
   ]
  },
  {
   "cell_type": "code",
   "execution_count": 1,
   "metadata": {},
   "outputs": [
    {
     "name": "stderr",
     "output_type": "stream",
     "text": [
      "C:\\Users\\user\\Anaconda3\\envs\\keras\\lib\\site-packages\\h5py\\__init__.py:36: FutureWarning: Conversion of the second argument of issubdtype from `float` to `np.floating` is deprecated. In future, it will be treated as `np.float64 == np.dtype(float).type`.\n",
      "  from ._conv import register_converters as _register_converters\n",
      "Using TensorFlow backend.\n"
     ]
    }
   ],
   "source": [
    "from keras.layers import Dense\n",
    "from keras.models import Sequential\n",
    "#from keras.optimizers import Adam\n",
    "#import h5py"
   ]
  },
  {
   "cell_type": "code",
   "execution_count": 2,
   "metadata": {},
   "outputs": [],
   "source": [
    "#忽略掉瑣碎的警告訊息\n",
    "import warnings\n",
    "warnings.filterwarnings(\"ignore\")\n",
    "\n",
    "#######################################################################################\n",
    "import matplotlib\n",
    "import matplotlib.pyplot as plt\n",
    "#matplotlib內建不支援中文，解決辦法：每次預先指定字體\n",
    "matplotlib.rcParams.update({'font.size': 36})\n",
    "matplotlib.use('qt4agg')\n",
    "myfont = matplotlib.font_manager.FontProperties(fname='C:\\\\Windows\\\\Fonts\\\\msjh.ttc')\n",
    "#指定字體\n",
    "matplotlib.rcParams['axes.unicode_minus']=False\n",
    "\n",
    "from matplotlib.ticker import FormatStrFormatter\n",
    "majorFormatter = FormatStrFormatter('%0.f') #設定圖表浮點數的格式\n",
    "%matplotlib inline \n",
    "#繪圖完就直接顯示該圖，省略每次繪圖完都要輸入plt.show指令的動作\n",
    "#######################################################################################\n",
    "import seaborn as sns\n",
    "\n",
    "\n",
    "\n",
    "import pandas as pd\n",
    "pd.set_option('display.max_columns', 100)  #設定可顯示欄位的上限\n",
    "pd.options.display.float_format = '{:,.6f}'.format  #設定浮點數的格式\n",
    "\n",
    "from sklearn.preprocessing import MinMaxScaler\n",
    "from sklearn.model_selection import train_test_split\n",
    "from sklearn.metrics import accuracy_score\n"
   ]
  },
  {
   "cell_type": "markdown",
   "metadata": {},
   "source": [
    "## 資料預處理"
   ]
  },
  {
   "cell_type": "code",
   "execution_count": 3,
   "metadata": {},
   "outputs": [
    {
     "data": {
      "text/html": [
       "<div>\n",
       "<style scoped>\n",
       "    .dataframe tbody tr th:only-of-type {\n",
       "        vertical-align: middle;\n",
       "    }\n",
       "\n",
       "    .dataframe tbody tr th {\n",
       "        vertical-align: top;\n",
       "    }\n",
       "\n",
       "    .dataframe thead th {\n",
       "        text-align: right;\n",
       "    }\n",
       "</style>\n",
       "<table border=\"1\" class=\"dataframe\">\n",
       "  <thead>\n",
       "    <tr style=\"text-align: right;\">\n",
       "      <th></th>\n",
       "      <th>遊戲名稱</th>\n",
       "      <th>遊戲帳號</th>\n",
       "      <th>時間Key</th>\n",
       "      <th>RFM數字類型</th>\n",
       "      <th>RFM中文類型</th>\n",
       "      <th>價值指數</th>\n",
       "      <th>第一次儲值日期</th>\n",
       "      <th>最後一次儲值日期</th>\n",
       "      <th>平均儲值日期間隔</th>\n",
       "      <th>平均儲值日期區間</th>\n",
       "      <th>儲值次數</th>\n",
       "      <th>平均儲值金額</th>\n",
       "      <th>平均儲值金額區間</th>\n",
       "      <th>累積儲值金額</th>\n",
       "      <th>累積儲值金額區間</th>\n",
       "      <th>角色等級</th>\n",
       "      <th>最近上線時間</th>\n",
       "      <th>角色職業</th>\n",
       "      <th>修真</th>\n",
       "      <th>轉生級別</th>\n",
       "      <th>境界</th>\n",
       "      <th>魔書經驗</th>\n",
       "      <th>星運</th>\n",
       "      <th>魂力</th>\n",
       "      <th>傷害力指數</th>\n",
       "      <th>生存指數</th>\n",
       "      <th>聲望</th>\n",
       "      <th>修真_未填坑</th>\n",
       "      <th>境界_未填坑</th>\n",
       "      <th>星運_未填坑</th>\n",
       "      <th>轉生_未填坑</th>\n",
       "      <th>一轉等級</th>\n",
       "    </tr>\n",
       "  </thead>\n",
       "  <tbody>\n",
       "    <tr>\n",
       "      <th>0</th>\n",
       "      <td>完美世界</td>\n",
       "      <td>31800459</td>\n",
       "      <td>2016-12-31</td>\n",
       "      <td>111</td>\n",
       "      <td>-_新戶</td>\n",
       "      <td>0.033000</td>\n",
       "      <td>2016-04-24</td>\n",
       "      <td>2016-04-24</td>\n",
       "      <td>251.000000</td>\n",
       "      <td>超過3個月</td>\n",
       "      <td>1</td>\n",
       "      <td>150</td>\n",
       "      <td>1K</td>\n",
       "      <td>150</td>\n",
       "      <td>1K</td>\n",
       "      <td>nan</td>\n",
       "      <td>NaT</td>\n",
       "      <td>NaN</td>\n",
       "      <td>NaN</td>\n",
       "      <td>nan</td>\n",
       "      <td>NaN</td>\n",
       "      <td>nan</td>\n",
       "      <td>nan</td>\n",
       "      <td>nan</td>\n",
       "      <td>nan</td>\n",
       "      <td>nan</td>\n",
       "      <td>nan</td>\n",
       "      <td>nan</td>\n",
       "      <td>nan</td>\n",
       "      <td>nan</td>\n",
       "      <td>nan</td>\n",
       "      <td>nan</td>\n",
       "    </tr>\n",
       "  </tbody>\n",
       "</table>\n",
       "</div>"
      ],
      "text/plain": [
       "   遊戲名稱      遊戲帳號      時間Key  RFM數字類型 RFM中文類型     價值指數    第一次儲值日期   最後一次儲值日期  \\\n",
       "0  完美世界  31800459 2016-12-31      111    -_新戶 0.033000 2016-04-24 2016-04-24   \n",
       "\n",
       "    平均儲值日期間隔 平均儲值日期區間  儲值次數  平均儲值金額 平均儲值金額區間  累積儲值金額 累積儲值金額區間  角色等級 最近上線時間  \\\n",
       "0 251.000000    超過3個月     1     150       1K     150       1K   nan    NaT   \n",
       "\n",
       "  角色職業   修真  轉生級別   境界  魔書經驗  星運  魂力  傷害力指數  生存指數  聲望  修真_未填坑  境界_未填坑  星運_未填坑  \\\n",
       "0  NaN  NaN   nan  NaN   nan nan nan    nan   nan nan     nan     nan     nan   \n",
       "\n",
       "   轉生_未填坑  一轉等級  \n",
       "0     nan   nan  "
      ]
     },
     "execution_count": 3,
     "metadata": {},
     "output_type": "execute_result"
    }
   ],
   "source": [
    "data = pd.read_excel('GF_RFMmodelExample_20180521_W2.xlsx', encoding='utf8')\n",
    "data.head(1)"
   ]
  },
  {
   "cell_type": "code",
   "execution_count": 4,
   "metadata": {},
   "outputs": [
    {
     "data": {
      "text/plain": [
       "32"
      ]
     },
     "execution_count": 4,
     "metadata": {},
     "output_type": "execute_result"
    }
   ],
   "source": [
    "data.shape[1]"
   ]
  },
  {
   "cell_type": "code",
   "execution_count": 5,
   "metadata": {},
   "outputs": [
    {
     "name": "stdout",
     "output_type": "stream",
     "text": [
      "<class 'pandas.core.frame.DataFrame'>\n",
      "RangeIndex: 171374 entries, 0 to 171373\n",
      "Data columns (total 32 columns):\n",
      "遊戲名稱        171374 non-null object\n",
      "遊戲帳號        171374 non-null object\n",
      "時間Key       171374 non-null datetime64[ns]\n",
      "RFM數字類型     171374 non-null int64\n",
      "RFM中文類型     171374 non-null object\n",
      "價值指數        171374 non-null float64\n",
      "第一次儲值日期     171374 non-null datetime64[ns]\n",
      "最後一次儲值日期    171374 non-null datetime64[ns]\n",
      "平均儲值日期間隔    171374 non-null float64\n",
      "平均儲值日期區間    171374 non-null object\n",
      "儲值次數        171374 non-null int64\n",
      "平均儲值金額      171374 non-null int64\n",
      "平均儲值金額區間    171374 non-null object\n",
      "累積儲值金額      171374 non-null int64\n",
      "累積儲值金額區間    171374 non-null object\n",
      "角色等級        92335 non-null float64\n",
      "最近上線時間      88481 non-null datetime64[ns]\n",
      "角色職業        96800 non-null object\n",
      "修真          96800 non-null object\n",
      "轉生級別        96755 non-null float64\n",
      "境界          96755 non-null object\n",
      "魔書經驗        96800 non-null float64\n",
      "星運          96800 non-null float64\n",
      "魂力          96800 non-null float64\n",
      "傷害力指數       96800 non-null float64\n",
      "生存指數        96800 non-null float64\n",
      "聲望          96800 non-null float64\n",
      "修真_未填坑      96755 non-null float64\n",
      "境界_未填坑      96755 non-null float64\n",
      "星運_未填坑      96755 non-null float64\n",
      "轉生_未填坑      96755 non-null float64\n",
      "一轉等級        96755 non-null float64\n",
      "dtypes: datetime64[ns](4), float64(15), int64(4), object(9)\n",
      "memory usage: 41.8+ MB\n"
     ]
    }
   ],
   "source": [
    "data.info()"
   ]
  },
  {
   "cell_type": "code",
   "execution_count": 6,
   "metadata": {},
   "outputs": [
    {
     "data": {
      "text/html": [
       "<div>\n",
       "<style scoped>\n",
       "    .dataframe tbody tr th:only-of-type {\n",
       "        vertical-align: middle;\n",
       "    }\n",
       "\n",
       "    .dataframe tbody tr th {\n",
       "        vertical-align: top;\n",
       "    }\n",
       "\n",
       "    .dataframe thead th {\n",
       "        text-align: right;\n",
       "    }\n",
       "</style>\n",
       "<table border=\"1\" class=\"dataframe\">\n",
       "  <thead>\n",
       "    <tr style=\"text-align: right;\">\n",
       "      <th></th>\n",
       "      <th>RFM數字類型</th>\n",
       "      <th>價值指數</th>\n",
       "      <th>平均儲值日期間隔</th>\n",
       "      <th>儲值次數</th>\n",
       "      <th>平均儲值金額</th>\n",
       "      <th>累積儲值金額</th>\n",
       "      <th>角色等級</th>\n",
       "      <th>轉生級別</th>\n",
       "      <th>魔書經驗</th>\n",
       "      <th>星運</th>\n",
       "      <th>魂力</th>\n",
       "      <th>傷害力指數</th>\n",
       "      <th>生存指數</th>\n",
       "      <th>聲望</th>\n",
       "      <th>修真_未填坑</th>\n",
       "      <th>境界_未填坑</th>\n",
       "      <th>星運_未填坑</th>\n",
       "      <th>轉生_未填坑</th>\n",
       "      <th>一轉等級</th>\n",
       "    </tr>\n",
       "  </thead>\n",
       "  <tbody>\n",
       "    <tr>\n",
       "      <th>count</th>\n",
       "      <td>171,374.000000</td>\n",
       "      <td>171,374.000000</td>\n",
       "      <td>171,374.000000</td>\n",
       "      <td>171,374.000000</td>\n",
       "      <td>171,374.000000</td>\n",
       "      <td>171,374.000000</td>\n",
       "      <td>92,335.000000</td>\n",
       "      <td>96,755.000000</td>\n",
       "      <td>96,800.000000</td>\n",
       "      <td>96,800.000000</td>\n",
       "      <td>96,800.000000</td>\n",
       "      <td>96,800.000000</td>\n",
       "      <td>96,800.000000</td>\n",
       "      <td>96,800.000000</td>\n",
       "      <td>96,755.000000</td>\n",
       "      <td>96,755.000000</td>\n",
       "      <td>96,755.000000</td>\n",
       "      <td>96,755.000000</td>\n",
       "      <td>96,755.000000</td>\n",
       "    </tr>\n",
       "    <tr>\n",
       "      <th>mean</th>\n",
       "      <td>271.538326</td>\n",
       "      <td>0.467559</td>\n",
       "      <td>161.084636</td>\n",
       "      <td>71.489637</td>\n",
       "      <td>706.626192</td>\n",
       "      <td>67,962.497870</td>\n",
       "      <td>1,755.857865</td>\n",
       "      <td>1.677588</td>\n",
       "      <td>169,803,449.371219</td>\n",
       "      <td>2.362138</td>\n",
       "      <td>19,506.068037</td>\n",
       "      <td>82,515.090486</td>\n",
       "      <td>221,405.440434</td>\n",
       "      <td>217,376.756415</td>\n",
       "      <td>10.314206</td>\n",
       "      <td>15.227575</td>\n",
       "      <td>5.636763</td>\n",
       "      <td>0.322412</td>\n",
       "      <td>87.928272</td>\n",
       "    </tr>\n",
       "    <tr>\n",
       "      <th>std</th>\n",
       "      <td>168.391518</td>\n",
       "      <td>0.764874</td>\n",
       "      <td>246.169271</td>\n",
       "      <td>155.924773</td>\n",
       "      <td>858.820110</td>\n",
       "      <td>244,723.144103</td>\n",
       "      <td>733.692343</td>\n",
       "      <td>0.712381</td>\n",
       "      <td>353,472,499.722779</td>\n",
       "      <td>1.597586</td>\n",
       "      <td>8,497.971526</td>\n",
       "      <td>117,382.975649</td>\n",
       "      <td>328,290.840927</td>\n",
       "      <td>163,856.793656</td>\n",
       "      <td>12.522392</td>\n",
       "      <td>19.273492</td>\n",
       "      <td>1.597145</td>\n",
       "      <td>0.712381</td>\n",
       "      <td>36.178575</td>\n",
       "    </tr>\n",
       "    <tr>\n",
       "      <th>min</th>\n",
       "      <td>111.000000</td>\n",
       "      <td>0.033000</td>\n",
       "      <td>0.030000</td>\n",
       "      <td>1.000000</td>\n",
       "      <td>1.000000</td>\n",
       "      <td>1.000000</td>\n",
       "      <td>1.000000</td>\n",
       "      <td>0.000000</td>\n",
       "      <td>0.000000</td>\n",
       "      <td>0.000000</td>\n",
       "      <td>0.000000</td>\n",
       "      <td>0.000000</td>\n",
       "      <td>0.000000</td>\n",
       "      <td>0.000000</td>\n",
       "      <td>0.000000</td>\n",
       "      <td>0.000000</td>\n",
       "      <td>0.000000</td>\n",
       "      <td>0.000000</td>\n",
       "      <td>0.000000</td>\n",
       "    </tr>\n",
       "    <tr>\n",
       "      <th>25%</th>\n",
       "      <td>112.000000</td>\n",
       "      <td>0.066000</td>\n",
       "      <td>21.430000</td>\n",
       "      <td>3.000000</td>\n",
       "      <td>300.000000</td>\n",
       "      <td>1,150.000000</td>\n",
       "      <td>2,101.000000</td>\n",
       "      <td>2.000000</td>\n",
       "      <td>0.000000</td>\n",
       "      <td>1.000000</td>\n",
       "      <td>15,557.000000</td>\n",
       "      <td>19,630.000000</td>\n",
       "      <td>26,080.000000</td>\n",
       "      <td>143,387.000000</td>\n",
       "      <td>0.000000</td>\n",
       "      <td>0.000000</td>\n",
       "      <td>4.000000</td>\n",
       "      <td>0.000000</td>\n",
       "      <td>100.000000</td>\n",
       "    </tr>\n",
       "    <tr>\n",
       "      <th>50%</th>\n",
       "      <td>213.000000</td>\n",
       "      <td>0.165000</td>\n",
       "      <td>66.380000</td>\n",
       "      <td>17.000000</td>\n",
       "      <td>500.000000</td>\n",
       "      <td>8,000.000000</td>\n",
       "      <td>2,103.000000</td>\n",
       "      <td>2.000000</td>\n",
       "      <td>1,290,391.000000</td>\n",
       "      <td>3.000000</td>\n",
       "      <td>17,068.000000</td>\n",
       "      <td>47,139.000000</td>\n",
       "      <td>104,791.000000</td>\n",
       "      <td>205,350.000000</td>\n",
       "      <td>9.000000</td>\n",
       "      <td>4.000000</td>\n",
       "      <td>5.000000</td>\n",
       "      <td>0.000000</td>\n",
       "      <td>102.000000</td>\n",
       "    </tr>\n",
       "    <tr>\n",
       "      <th>75%</th>\n",
       "      <td>422.000000</td>\n",
       "      <td>0.496000</td>\n",
       "      <td>201.500000</td>\n",
       "      <td>74.000000</td>\n",
       "      <td>844.000000</td>\n",
       "      <td>44,000.000000</td>\n",
       "      <td>2,105.000000</td>\n",
       "      <td>2.000000</td>\n",
       "      <td>137,722,366.000000</td>\n",
       "      <td>4.000000</td>\n",
       "      <td>20,507.000000</td>\n",
       "      <td>94,474.000000</td>\n",
       "      <td>276,600.000000</td>\n",
       "      <td>286,628.000000</td>\n",
       "      <td>19.000000</td>\n",
       "      <td>30.000000</td>\n",
       "      <td>7.000000</td>\n",
       "      <td>0.000000</td>\n",
       "      <td>105.000000</td>\n",
       "    </tr>\n",
       "    <tr>\n",
       "      <th>max</th>\n",
       "      <td>555.000000</td>\n",
       "      <td>4.135000</td>\n",
       "      <td>3,775.000000</td>\n",
       "      <td>6,000.000000</td>\n",
       "      <td>30,000.000000</td>\n",
       "      <td>14,728,950.000000</td>\n",
       "      <td>2,105.000000</td>\n",
       "      <td>2.000000</td>\n",
       "      <td>1,800,000,000.000000</td>\n",
       "      <td>8.000000</td>\n",
       "      <td>56,835.000000</td>\n",
       "      <td>1,415,308.000000</td>\n",
       "      <td>4,015,841.000000</td>\n",
       "      <td>1,348,603.000000</td>\n",
       "      <td>41.000000</td>\n",
       "      <td>50.000000</td>\n",
       "      <td>8.000000</td>\n",
       "      <td>2.000000</td>\n",
       "      <td>105.000000</td>\n",
       "    </tr>\n",
       "  </tbody>\n",
       "</table>\n",
       "</div>"
      ],
      "text/plain": [
       "             RFM數字類型           價值指數       平均儲值日期間隔           儲值次數  \\\n",
       "count 171,374.000000 171,374.000000 171,374.000000 171,374.000000   \n",
       "mean      271.538326       0.467559     161.084636      71.489637   \n",
       "std       168.391518       0.764874     246.169271     155.924773   \n",
       "min       111.000000       0.033000       0.030000       1.000000   \n",
       "25%       112.000000       0.066000      21.430000       3.000000   \n",
       "50%       213.000000       0.165000      66.380000      17.000000   \n",
       "75%       422.000000       0.496000     201.500000      74.000000   \n",
       "max       555.000000       4.135000   3,775.000000   6,000.000000   \n",
       "\n",
       "              平均儲值金額            累積儲值金額          角色等級          轉生級別  \\\n",
       "count 171,374.000000    171,374.000000 92,335.000000 96,755.000000   \n",
       "mean      706.626192     67,962.497870  1,755.857865      1.677588   \n",
       "std       858.820110    244,723.144103    733.692343      0.712381   \n",
       "min         1.000000          1.000000      1.000000      0.000000   \n",
       "25%       300.000000      1,150.000000  2,101.000000      2.000000   \n",
       "50%       500.000000      8,000.000000  2,103.000000      2.000000   \n",
       "75%       844.000000     44,000.000000  2,105.000000      2.000000   \n",
       "max    30,000.000000 14,728,950.000000  2,105.000000      2.000000   \n",
       "\n",
       "                      魔書經驗            星運            魂力            傷害力指數  \\\n",
       "count        96,800.000000 96,800.000000 96,800.000000    96,800.000000   \n",
       "mean    169,803,449.371219      2.362138 19,506.068037    82,515.090486   \n",
       "std     353,472,499.722779      1.597586  8,497.971526   117,382.975649   \n",
       "min               0.000000      0.000000      0.000000         0.000000   \n",
       "25%               0.000000      1.000000 15,557.000000    19,630.000000   \n",
       "50%       1,290,391.000000      3.000000 17,068.000000    47,139.000000   \n",
       "75%     137,722,366.000000      4.000000 20,507.000000    94,474.000000   \n",
       "max   1,800,000,000.000000      8.000000 56,835.000000 1,415,308.000000   \n",
       "\n",
       "                  生存指數               聲望        修真_未填坑        境界_未填坑  \\\n",
       "count    96,800.000000    96,800.000000 96,755.000000 96,755.000000   \n",
       "mean    221,405.440434   217,376.756415     10.314206     15.227575   \n",
       "std     328,290.840927   163,856.793656     12.522392     19.273492   \n",
       "min           0.000000         0.000000      0.000000      0.000000   \n",
       "25%      26,080.000000   143,387.000000      0.000000      0.000000   \n",
       "50%     104,791.000000   205,350.000000      9.000000      4.000000   \n",
       "75%     276,600.000000   286,628.000000     19.000000     30.000000   \n",
       "max   4,015,841.000000 1,348,603.000000     41.000000     50.000000   \n",
       "\n",
       "             星運_未填坑        轉生_未填坑          一轉等級  \n",
       "count 96,755.000000 96,755.000000 96,755.000000  \n",
       "mean       5.636763      0.322412     87.928272  \n",
       "std        1.597145      0.712381     36.178575  \n",
       "min        0.000000      0.000000      0.000000  \n",
       "25%        4.000000      0.000000    100.000000  \n",
       "50%        5.000000      0.000000    102.000000  \n",
       "75%        7.000000      0.000000    105.000000  \n",
       "max        8.000000      2.000000    105.000000  "
      ]
     },
     "execution_count": 6,
     "metadata": {},
     "output_type": "execute_result"
    }
   ],
   "source": [
    "data.describe()"
   ]
  },
  {
   "cell_type": "code",
   "execution_count": 7,
   "metadata": {},
   "outputs": [],
   "source": [
    "#data['角色職業'].value_counts()\n",
    "#data.groupby('修真')['修真_未填坑'].describe()"
   ]
  },
  {
   "cell_type": "code",
   "execution_count": 8,
   "metadata": {},
   "outputs": [],
   "source": [
    "#角色職業的遺失值由最多人選擇的職業來填補\n",
    "data['角色職業'] = data['角色職業'].fillna(data['角色職業'].value_counts().index[0])\n",
    "\n",
    "#修真未填坑等於0，代表修真部分玩家已經全玩過，因此填代表修真最高等級的41至聖\n",
    "data.loc[(data.修真.isnull()) & (data['修真_未填坑']==0), '修真']='41至聖'\n",
    "\n",
    "#根據已知修真類別來填補修真_未填坑的遺失值\n",
    "data.loc[(data.修真_未填坑.isnull()) & (data['修真']=='00大乘以下'), '修真_未填坑']=38\n",
    "data.loc[(data.修真_未填坑.isnull()) & (data['修真']=='20上仙'), '修真_未填坑']=21\n",
    "data.loc[(data.修真_未填坑.isnull()) & (data['修真']=='22天仙'), '修真_未填坑']=20\n",
    "data.loc[(data.修真_未填坑.isnull()) & (data['修真']=='21真仙'), '修真_未填坑']=19\n",
    "data.loc[(data.修真_未填坑.isnull()) & (data['修真']=='30狂魔'), '修真_未填坑']=11\n",
    "data.loc[(data.修真_未填坑.isnull()) & (data['修真']=='31魔聖'), '修真_未填坑']=10\n",
    "data.loc[(data.修真_未填坑.isnull()) & (data['修真']=='32魔尊'), '修真_未填坑']=9\n",
    "data.loc[(data.修真_未填坑.isnull()) & (data['修真']=='40混元'), '修真_未填坑']=1\n",
    "data.loc[(data.修真_未填坑.isnull()) & (data['修真']=='41至聖'), '修真_未填坑']=0\n",
    "\n",
    "\n",
    "#根據已知星運類別來填補星運_未填坑的遺失值\n",
    "data.loc[(data.星運_未填坑.isnull()) & (data['星運']==0), '星運_未填坑']=8\n",
    "data.loc[(data.星運_未填坑.isnull()) & (data['星運']==1), '星運_未填坑']=7\n",
    "data.loc[(data.星運_未填坑.isnull()) & (data['星運']==2), '星運_未填坑']=6\n",
    "data.loc[(data.星運_未填坑.isnull()) & (data['星運']==3), '星運_未填坑']=5\n",
    "data.loc[(data.星運_未填坑.isnull()) & (data['星運']==4), '星運_未填坑']=4\n",
    "data.loc[(data.星運_未填坑.isnull()) & (data['星運']==5), '星運_未填坑']=3\n",
    "data.loc[(data.星運_未填坑.isnull()) & (data['星運']==6), '星運_未填坑']=2\n",
    "data.loc[(data.星運_未填坑.isnull()) & (data['星運']==7), '星運_未填坑']=1\n",
    "data.loc[(data.星運_未填坑.isnull()) & (data['星運']==8), '星運_未填坑']=0\n",
    "\n",
    "\n",
    "#根據已知境界未填坑來填補境界的遺失值\n",
    "data.loc[(data.境界.isnull()) & (data['境界_未填坑']==0), '境界']='均天十重'\n",
    "data.loc[(data.境界.isnull()) & (data['境界_未填坑']==1), '境界']='均天九重'\n",
    "data.loc[(data.境界.isnull()) & (data['境界_未填坑']==2), '境界']='均天八重'\n",
    "data.loc[(data.境界.isnull()) & (data['境界_未填坑']==3), '境界']='均天七重'\n",
    "data.loc[(data.境界.isnull()) & (data['境界_未填坑']==4), '境界']='均天六重'\n",
    "data.loc[(data.境界.isnull()) & (data['境界_未填坑']==5), '境界']='均天五重'\n",
    "data.loc[(data.境界.isnull()) & (data['境界_未填坑']==6), '境界']='均天四重'\n",
    "data.loc[(data.境界.isnull()) & (data['境界_未填坑']==7), '境界']='均天三重'\n",
    "data.loc[(data.境界.isnull()) & (data['境界_未填坑']==8), '境界']='均天二重'\n",
    "data.loc[(data.境界.isnull()) & (data['境界_未填坑']==9), '境界']='均天一重'\n",
    "\n",
    "data.loc[(data.境界.isnull()) & (data['境界_未填坑']==10), '境界']='動天十重'\n",
    "data.loc[(data.境界.isnull()) & (data['境界_未填坑']==11), '境界']='動天九重'\n",
    "data.loc[(data.境界.isnull()) & (data['境界_未填坑']==12), '境界']='動天八重'\n",
    "data.loc[(data.境界.isnull()) & (data['境界_未填坑']==13), '境界']='動天七重'\n",
    "data.loc[(data.境界.isnull()) & (data['境界_未填坑']==14), '境界']='動天六重'\n",
    "data.loc[(data.境界.isnull()) & (data['境界_未填坑']==15), '境界']='動天五重'\n",
    "data.loc[(data.境界.isnull()) & (data['境界_未填坑']==16), '境界']='動天四重'\n",
    "data.loc[(data.境界.isnull()) & (data['境界_未填坑']==17), '境界']='動天三重'\n",
    "data.loc[(data.境界.isnull()) & (data['境界_未填坑']==18), '境界']='動天二重'\n",
    "data.loc[(data.境界.isnull()) & (data['境界_未填坑']==19), '境界']='動天一重'\n",
    "\n",
    "data.loc[(data.境界.isnull()) & (data['境界_未填坑']==20), '境界']='周天十重'\n",
    "data.loc[(data.境界.isnull()) & (data['境界_未填坑']==21), '境界']='周天九重'\n",
    "data.loc[(data.境界.isnull()) & (data['境界_未填坑']==22), '境界']='周天八重'\n",
    "data.loc[(data.境界.isnull()) & (data['境界_未填坑']==23), '境界']='周天七重'\n",
    "data.loc[(data.境界.isnull()) & (data['境界_未填坑']==24), '境界']='周天六重'\n",
    "data.loc[(data.境界.isnull()) & (data['境界_未填坑']==25), '境界']='周天五重'\n",
    "data.loc[(data.境界.isnull()) & (data['境界_未填坑']==26), '境界']='周天四重'\n",
    "data.loc[(data.境界.isnull()) & (data['境界_未填坑']==27), '境界']='周天三重'\n",
    "data.loc[(data.境界.isnull()) & (data['境界_未填坑']==28), '境界']='周天二重'\n",
    "data.loc[(data.境界.isnull()) & (data['境界_未填坑']==29), '境界']='周天一重'\n",
    "\n",
    "data.loc[(data.境界.isnull()) & (data['境界_未填坑']==30), '境界']='幻天十重'\n",
    "data.loc[(data.境界.isnull()) & (data['境界_未填坑']==31), '境界']='幻天九重'\n",
    "data.loc[(data.境界.isnull()) & (data['境界_未填坑']==32), '境界']='幻天八重'\n",
    "data.loc[(data.境界.isnull()) & (data['境界_未填坑']==33), '境界']='幻天七重'\n",
    "data.loc[(data.境界.isnull()) & (data['境界_未填坑']==34), '境界']='幻天六重'\n",
    "data.loc[(data.境界.isnull()) & (data['境界_未填坑']==35), '境界']='幻天五重'\n",
    "data.loc[(data.境界.isnull()) & (data['境界_未填坑']==36), '境界']='幻天四重'\n",
    "data.loc[(data.境界.isnull()) & (data['境界_未填坑']==37), '境界']='幻天三重'\n",
    "data.loc[(data.境界.isnull()) & (data['境界_未填坑']==38), '境界']='幻天二重'\n",
    "data.loc[(data.境界.isnull()) & (data['境界_未填坑']==39), '境界']='幻天一重'\n",
    "\n",
    "data.loc[(data.境界.isnull()) & (data['境界_未填坑']==40), '境界']='玄天十重'\n",
    "data.loc[(data.境界.isnull()) & (data['境界_未填坑']==41), '境界']='玄天九重'\n",
    "data.loc[(data.境界.isnull()) & (data['境界_未填坑']==42), '境界']='玄天八重'\n",
    "data.loc[(data.境界.isnull()) & (data['境界_未填坑']==43), '境界']='玄天七重'\n",
    "data.loc[(data.境界.isnull()) & (data['境界_未填坑']==44), '境界']='玄天六重'\n",
    "data.loc[(data.境界.isnull()) & (data['境界_未填坑']==45), '境界']='玄天五重'\n",
    "data.loc[(data.境界.isnull()) & (data['境界_未填坑']==46), '境界']='玄天四重'\n",
    "data.loc[(data.境界.isnull()) & (data['境界_未填坑']==47), '境界']='玄天三重'\n",
    "data.loc[(data.境界.isnull()) & (data['境界_未填坑']==48), '境界']='玄天二重'\n",
    "data.loc[(data.境界.isnull()) & (data['境界_未填坑']==49), '境界']='玄天一重'\n"
   ]
  },
  {
   "cell_type": "code",
   "execution_count": 9,
   "metadata": {},
   "outputs": [
    {
     "name": "stdout",
     "output_type": "stream",
     "text": [
      "<class 'pandas.core.frame.DataFrame'>\n",
      "Int64Index: 44093 entries, 15 to 171373\n",
      "Data columns (total 32 columns):\n",
      "遊戲名稱        44093 non-null object\n",
      "遊戲帳號        44093 non-null object\n",
      "時間Key       44093 non-null datetime64[ns]\n",
      "RFM數字類型     44093 non-null int64\n",
      "RFM中文類型     44093 non-null object\n",
      "價值指數        44093 non-null float64\n",
      "第一次儲值日期     44093 non-null datetime64[ns]\n",
      "最後一次儲值日期    44093 non-null datetime64[ns]\n",
      "平均儲值日期間隔    44093 non-null float64\n",
      "平均儲值日期區間    44093 non-null object\n",
      "儲值次數        44093 non-null int64\n",
      "平均儲值金額      44093 non-null int64\n",
      "平均儲值金額區間    44093 non-null object\n",
      "累積儲值金額      44093 non-null int64\n",
      "累積儲值金額區間    44093 non-null object\n",
      "角色等級        44093 non-null float64\n",
      "最近上線時間      44093 non-null datetime64[ns]\n",
      "角色職業        44093 non-null object\n",
      "修真          44093 non-null object\n",
      "轉生級別        44093 non-null float64\n",
      "境界          44093 non-null object\n",
      "魔書經驗        44093 non-null float64\n",
      "星運          44093 non-null float64\n",
      "魂力          44093 non-null float64\n",
      "傷害力指數       44093 non-null float64\n",
      "生存指數        44093 non-null float64\n",
      "聲望          44093 non-null float64\n",
      "修真_未填坑      44093 non-null float64\n",
      "境界_未填坑      44093 non-null float64\n",
      "星運_未填坑      44093 non-null float64\n",
      "轉生_未填坑      44093 non-null float64\n",
      "一轉等級        44093 non-null float64\n",
      "dtypes: datetime64[ns](4), float64(15), int64(4), object(9)\n",
      "memory usage: 11.1+ MB\n"
     ]
    }
   ],
   "source": [
    "data = data.dropna(axis=0)\n",
    "data.info()"
   ]
  },
  {
   "cell_type": "markdown",
   "metadata": {},
   "source": [
    "## 建立樣本標籤\n",
    "### 將屬於退坑、停滯、停儲狀態的玩家定義為流失客戶。"
   ]
  },
  {
   "cell_type": "code",
   "execution_count": 10,
   "metadata": {},
   "outputs": [
    {
     "data": {
      "text/plain": [
       "0    28308\n",
       "1    15785\n",
       "Name: RFM判斷是否為價值客戶, dtype: int64"
      ]
     },
     "execution_count": 10,
     "metadata": {},
     "output_type": "execute_result"
    }
   ],
   "source": [
    "data['RFM判斷是否為價值客戶'] = 1\n",
    "\n",
    "data.loc[data['RFM中文類型']=='N_停儲' ,'RFM判斷是否為價值客戶']=0\n",
    "data.loc[data['RFM中文類型']=='N_停滯' ,'RFM判斷是否為價值客戶']=0\n",
    "data.loc[data['RFM中文類型']=='N_退坑' ,'RFM判斷是否為價值客戶']=0\n",
    "\n",
    "data['RFM判斷是否為價值客戶'].value_counts()"
   ]
  },
  {
   "cell_type": "code",
   "execution_count": 11,
   "metadata": {},
   "outputs": [],
   "source": [
    "df = data[['平均儲值日期間隔','儲值次數', '平均儲值金額','角色等級','累積儲值金額',\n",
    "           '傷害力指數', '生存指數', '聲望', 'RFM判斷是否為價值客戶', '星運', '魂力',\n",
    "           '魔書經驗', '傷害力指數', '生存指數', '聲望', '修真_未填坑',\n",
    "           '境界_未填坑', '星運_未填坑', '一轉等級','角色職業', '境界', '修真']]"
   ]
  },
  {
   "cell_type": "code",
   "execution_count": 12,
   "metadata": {},
   "outputs": [
    {
     "data": {
      "text/html": [
       "<div>\n",
       "<style scoped>\n",
       "    .dataframe tbody tr th:only-of-type {\n",
       "        vertical-align: middle;\n",
       "    }\n",
       "\n",
       "    .dataframe tbody tr th {\n",
       "        vertical-align: top;\n",
       "    }\n",
       "\n",
       "    .dataframe thead th {\n",
       "        text-align: right;\n",
       "    }\n",
       "</style>\n",
       "<table border=\"1\" class=\"dataframe\">\n",
       "  <thead>\n",
       "    <tr style=\"text-align: right;\">\n",
       "      <th></th>\n",
       "      <th>平均儲值日期間隔</th>\n",
       "      <th>儲值次數</th>\n",
       "      <th>平均儲值金額</th>\n",
       "      <th>角色等級</th>\n",
       "      <th>累積儲值金額</th>\n",
       "      <th>傷害力指數</th>\n",
       "      <th>生存指數</th>\n",
       "      <th>聲望</th>\n",
       "      <th>RFM判斷是否為價值客戶</th>\n",
       "      <th>星運</th>\n",
       "      <th>魂力</th>\n",
       "      <th>魔書經驗</th>\n",
       "      <th>傷害力指數</th>\n",
       "      <th>生存指數</th>\n",
       "      <th>聲望</th>\n",
       "      <th>修真_未填坑</th>\n",
       "      <th>境界_未填坑</th>\n",
       "      <th>星運_未填坑</th>\n",
       "      <th>一轉等級</th>\n",
       "      <th>角色職業</th>\n",
       "      <th>境界</th>\n",
       "      <th>修真</th>\n",
       "    </tr>\n",
       "  </thead>\n",
       "  <tbody>\n",
       "    <tr>\n",
       "      <th>8209</th>\n",
       "      <td>247.000000</td>\n",
       "      <td>1</td>\n",
       "      <td>50</td>\n",
       "      <td>95.000000</td>\n",
       "      <td>50</td>\n",
       "      <td>5,895.000000</td>\n",
       "      <td>4,072.000000</td>\n",
       "      <td>165.000000</td>\n",
       "      <td>1</td>\n",
       "      <td>0.000000</td>\n",
       "      <td>14,266.000000</td>\n",
       "      <td>0.000000</td>\n",
       "      <td>5,895.000000</td>\n",
       "      <td>4,072.000000</td>\n",
       "      <td>165.000000</td>\n",
       "      <td>38.000000</td>\n",
       "      <td>50.000000</td>\n",
       "      <td>8.000000</td>\n",
       "      <td>0.000000</td>\n",
       "      <td>妖精</td>\n",
       "      <td>0</td>\n",
       "      <td>00大乘以下</td>\n",
       "    </tr>\n",
       "  </tbody>\n",
       "</table>\n",
       "</div>"
      ],
      "text/plain": [
       "       平均儲值日期間隔  儲值次數  平均儲值金額      角色等級  累積儲值金額        傷害力指數         生存指數  \\\n",
       "8209 247.000000     1      50 95.000000      50 5,895.000000 4,072.000000   \n",
       "\n",
       "             聲望  RFM判斷是否為價值客戶       星運            魂力     魔書經驗        傷害力指數  \\\n",
       "8209 165.000000             1 0.000000 14,266.000000 0.000000 5,895.000000   \n",
       "\n",
       "             生存指數         聲望    修真_未填坑    境界_未填坑   星運_未填坑     一轉等級 角色職業 境界  \\\n",
       "8209 4,072.000000 165.000000 38.000000 50.000000 8.000000 0.000000   妖精  0   \n",
       "\n",
       "          修真  \n",
       "8209  00大乘以下  "
      ]
     },
     "execution_count": 12,
     "metadata": {},
     "output_type": "execute_result"
    }
   ],
   "source": [
    "df.sample()"
   ]
  },
  {
   "cell_type": "code",
   "execution_count": 13,
   "metadata": {},
   "outputs": [],
   "source": [
    "df = pd.get_dummies(df, columns=['角色職業'])\n",
    "df = pd.get_dummies(df, columns=['修真'])\n",
    "df = pd.get_dummies(df, columns=['境界'])"
   ]
  },
  {
   "cell_type": "markdown",
   "metadata": {},
   "source": [
    "## 目標變數用one-hot-encoding來表示"
   ]
  },
  {
   "cell_type": "code",
   "execution_count": 14,
   "metadata": {},
   "outputs": [
    {
     "data": {
      "text/html": [
       "<div>\n",
       "<style scoped>\n",
       "    .dataframe tbody tr th:only-of-type {\n",
       "        vertical-align: middle;\n",
       "    }\n",
       "\n",
       "    .dataframe tbody tr th {\n",
       "        vertical-align: top;\n",
       "    }\n",
       "\n",
       "    .dataframe thead th {\n",
       "        text-align: right;\n",
       "    }\n",
       "</style>\n",
       "<table border=\"1\" class=\"dataframe\">\n",
       "  <thead>\n",
       "    <tr style=\"text-align: right;\">\n",
       "      <th></th>\n",
       "      <th>0</th>\n",
       "      <th>1</th>\n",
       "    </tr>\n",
       "  </thead>\n",
       "  <tbody>\n",
       "    <tr>\n",
       "      <th>15</th>\n",
       "      <td>1</td>\n",
       "      <td>0</td>\n",
       "    </tr>\n",
       "    <tr>\n",
       "      <th>16</th>\n",
       "      <td>1</td>\n",
       "      <td>0</td>\n",
       "    </tr>\n",
       "    <tr>\n",
       "      <th>19</th>\n",
       "      <td>1</td>\n",
       "      <td>0</td>\n",
       "    </tr>\n",
       "    <tr>\n",
       "      <th>20</th>\n",
       "      <td>0</td>\n",
       "      <td>1</td>\n",
       "    </tr>\n",
       "    <tr>\n",
       "      <th>21</th>\n",
       "      <td>0</td>\n",
       "      <td>1</td>\n",
       "    </tr>\n",
       "  </tbody>\n",
       "</table>\n",
       "</div>"
      ],
      "text/plain": [
       "    0  1\n",
       "15  1  0\n",
       "16  1  0\n",
       "19  1  0\n",
       "20  0  1\n",
       "21  0  1"
      ]
     },
     "execution_count": 14,
     "metadata": {},
     "output_type": "execute_result"
    }
   ],
   "source": [
    "y = pd.get_dummies(df['RFM判斷是否為價值客戶'])\n",
    "y.head()"
   ]
  },
  {
   "cell_type": "markdown",
   "metadata": {},
   "source": [
    "## 特徵標準化\n",
    "### 訓練資料必須為數值類型，int or float"
   ]
  },
  {
   "cell_type": "code",
   "execution_count": 15,
   "metadata": {},
   "outputs": [],
   "source": [
    "df = df.drop(['RFM判斷是否為價值客戶'], axis=1)\n",
    "df = df.values\n",
    "\n",
    "scaler = MinMaxScaler()\n",
    "df = scaler.fit_transform(df)"
   ]
  },
  {
   "cell_type": "markdown",
   "metadata": {},
   "source": [
    "## 切分訓練、驗證樣本"
   ]
  },
  {
   "cell_type": "code",
   "execution_count": 16,
   "metadata": {},
   "outputs": [],
   "source": [
    "#使用sklearn中 train_test_split函數來切分數據\n",
    "train_x, val_x, train_y, val_y = train_test_split(df, y, \n",
    "                                                  random_state = 0,\n",
    "                                                  test_size=0.1)"
   ]
  },
  {
   "cell_type": "code",
   "execution_count": 17,
   "metadata": {},
   "outputs": [
    {
     "name": "stdout",
     "output_type": "stream",
     "text": [
      "(39683, 90) (4410, 90)\n"
     ]
    }
   ],
   "source": [
    "print(train_x.shape, val_x.shape)"
   ]
  },
  {
   "cell_type": "code",
   "execution_count": 18,
   "metadata": {},
   "outputs": [
    {
     "data": {
      "text/plain": [
       "array([1.43964563e-02, 1.08401084e-02, 1.52450942e-02, 9.97623574e-01,\n",
       "       2.26464336e-03, 3.53279993e-06, 1.44428029e-05, 0.00000000e+00,\n",
       "       0.00000000e+00, 8.97334389e-04, 0.00000000e+00, 3.53279993e-06,\n",
       "       1.44428029e-05, 0.00000000e+00, 1.00000000e+00, 1.00000000e+00,\n",
       "       1.00000000e+00, 0.00000000e+00, 0.00000000e+00, 0.00000000e+00,\n",
       "       0.00000000e+00, 0.00000000e+00, 0.00000000e+00, 1.00000000e+00,\n",
       "       0.00000000e+00, 0.00000000e+00, 0.00000000e+00, 0.00000000e+00,\n",
       "       0.00000000e+00, 0.00000000e+00, 1.00000000e+00, 0.00000000e+00,\n",
       "       0.00000000e+00, 0.00000000e+00, 0.00000000e+00, 0.00000000e+00,\n",
       "       0.00000000e+00, 0.00000000e+00, 0.00000000e+00, 1.00000000e+00,\n",
       "       0.00000000e+00, 0.00000000e+00, 0.00000000e+00, 0.00000000e+00,\n",
       "       0.00000000e+00, 0.00000000e+00, 0.00000000e+00, 0.00000000e+00,\n",
       "       0.00000000e+00, 0.00000000e+00, 0.00000000e+00, 0.00000000e+00,\n",
       "       0.00000000e+00, 0.00000000e+00, 0.00000000e+00, 0.00000000e+00,\n",
       "       0.00000000e+00, 0.00000000e+00, 0.00000000e+00, 0.00000000e+00,\n",
       "       0.00000000e+00, 0.00000000e+00, 0.00000000e+00, 0.00000000e+00,\n",
       "       0.00000000e+00, 0.00000000e+00, 0.00000000e+00, 0.00000000e+00,\n",
       "       0.00000000e+00, 0.00000000e+00, 0.00000000e+00, 0.00000000e+00,\n",
       "       0.00000000e+00, 0.00000000e+00, 0.00000000e+00, 0.00000000e+00,\n",
       "       0.00000000e+00, 0.00000000e+00, 0.00000000e+00, 0.00000000e+00,\n",
       "       0.00000000e+00, 0.00000000e+00, 0.00000000e+00, 0.00000000e+00,\n",
       "       0.00000000e+00, 0.00000000e+00, 0.00000000e+00, 0.00000000e+00,\n",
       "       0.00000000e+00, 0.00000000e+00])"
      ]
     },
     "execution_count": 18,
     "metadata": {},
     "output_type": "execute_result"
    }
   ],
   "source": [
    "train_x[0]"
   ]
  },
  {
   "cell_type": "code",
   "execution_count": 19,
   "metadata": {},
   "outputs": [
    {
     "data": {
      "text/html": [
       "<div>\n",
       "<style scoped>\n",
       "    .dataframe tbody tr th:only-of-type {\n",
       "        vertical-align: middle;\n",
       "    }\n",
       "\n",
       "    .dataframe tbody tr th {\n",
       "        vertical-align: top;\n",
       "    }\n",
       "\n",
       "    .dataframe thead th {\n",
       "        text-align: right;\n",
       "    }\n",
       "</style>\n",
       "<table border=\"1\" class=\"dataframe\">\n",
       "  <thead>\n",
       "    <tr style=\"text-align: right;\">\n",
       "      <th></th>\n",
       "      <th>0</th>\n",
       "      <th>1</th>\n",
       "    </tr>\n",
       "  </thead>\n",
       "  <tbody>\n",
       "    <tr>\n",
       "      <th>151182</th>\n",
       "      <td>1</td>\n",
       "      <td>0</td>\n",
       "    </tr>\n",
       "  </tbody>\n",
       "</table>\n",
       "</div>"
      ],
      "text/plain": [
       "        0  1\n",
       "151182  1  0"
      ]
     },
     "execution_count": 19,
     "metadata": {},
     "output_type": "execute_result"
    }
   ],
   "source": [
    "train_y.sample()"
   ]
  },
  {
   "cell_type": "markdown",
   "metadata": {},
   "source": [
    "## 建立模型"
   ]
  },
  {
   "cell_type": "code",
   "execution_count": 20,
   "metadata": {},
   "outputs": [],
   "source": [
    "def model1():\n",
    "    model = Sequential()\n",
    "    model.add(Dense(units=256, input_dim=train_x.shape[1], activation='relu'))  \n",
    "    model.add(Dense(units=128, activation='relu'))\n",
    "    model.add(Dense(units=64, activation='relu'))\n",
    "    model.add(Dense(units=32, activation='relu'))\n",
    "    model.add(Dense(units=16, activation='relu'))\n",
    "    model.add(Dense(units=8, activation='relu'))\n",
    "    model.add(Dense(units=4, activation='relu'))\n",
    "    model.add(Dense(units=2, activation='softmax'))  \n",
    "    model.compile(loss='categorical_crossentropy',\n",
    "                  optimizer='adam',\n",
    "                  metrics=['accuracy'])\n",
    "    return model\n",
    "\n",
    "model1 = model1()"
   ]
  },
  {
   "cell_type": "markdown",
   "metadata": {},
   "source": [
    "## 訓練模型"
   ]
  },
  {
   "cell_type": "code",
   "execution_count": 21,
   "metadata": {
    "scrolled": true
   },
   "outputs": [
    {
     "name": "stdout",
     "output_type": "stream",
     "text": [
      "Train on 39683 samples, validate on 4410 samples\n",
      "Epoch 1/80\n",
      " - 8s - loss: 0.5731 - acc: 0.7043 - val_loss: 0.5524 - val_acc: 0.7152\n",
      "Epoch 2/80\n",
      " - 7s - loss: 0.5429 - acc: 0.7278 - val_loss: 0.5398 - val_acc: 0.7265\n",
      "Epoch 3/80\n",
      " - 7s - loss: 0.5278 - acc: 0.7375 - val_loss: 0.5393 - val_acc: 0.7259\n",
      "Epoch 4/80\n",
      " - 7s - loss: 0.5141 - acc: 0.7462 - val_loss: 0.5286 - val_acc: 0.7322\n",
      "Epoch 5/80\n",
      " - 7s - loss: 0.5013 - acc: 0.7518 - val_loss: 0.5129 - val_acc: 0.7397\n",
      "Epoch 6/80\n",
      " - 8s - loss: 0.4911 - acc: 0.7558 - val_loss: 0.5135 - val_acc: 0.7435\n",
      "Epoch 7/80\n",
      " - 8s - loss: 0.4806 - acc: 0.7626 - val_loss: 0.5153 - val_acc: 0.7297\n",
      "Epoch 8/80\n",
      " - 8s - loss: 0.4753 - acc: 0.7631 - val_loss: 0.4956 - val_acc: 0.7515\n",
      "Epoch 9/80\n",
      " - 7s - loss: 0.4687 - acc: 0.7661 - val_loss: 0.5020 - val_acc: 0.7524\n",
      "Epoch 10/80\n",
      " - 7s - loss: 0.4618 - acc: 0.7703 - val_loss: 0.4921 - val_acc: 0.7531\n",
      "Epoch 11/80\n",
      " - 7s - loss: 0.4532 - acc: 0.7757 - val_loss: 0.4913 - val_acc: 0.7639\n",
      "Epoch 12/80\n",
      " - 7s - loss: 0.4490 - acc: 0.7754 - val_loss: 0.4805 - val_acc: 0.7635\n",
      "Epoch 13/80\n",
      " - 7s - loss: 0.4394 - acc: 0.7804 - val_loss: 0.4798 - val_acc: 0.7628\n",
      "Epoch 14/80\n",
      " - 7s - loss: 0.4348 - acc: 0.7833 - val_loss: 0.4957 - val_acc: 0.7612\n",
      "Epoch 15/80\n",
      " - 7s - loss: 0.4264 - acc: 0.7880 - val_loss: 0.4844 - val_acc: 0.7678\n",
      "Epoch 16/80\n",
      " - 7s - loss: 0.4252 - acc: 0.7895 - val_loss: 0.4695 - val_acc: 0.7823\n",
      "Epoch 17/80\n",
      " - 7s - loss: 0.4187 - acc: 0.7935 - val_loss: 0.4738 - val_acc: 0.7698\n",
      "Epoch 18/80\n",
      " - 8s - loss: 0.4152 - acc: 0.7973 - val_loss: 0.4844 - val_acc: 0.7769\n",
      "Epoch 19/80\n",
      " - 7s - loss: 0.4104 - acc: 0.7982 - val_loss: 0.4606 - val_acc: 0.7771\n",
      "Epoch 20/80\n",
      " - 8s - loss: 0.4053 - acc: 0.8039 - val_loss: 0.4773 - val_acc: 0.7846\n",
      "Epoch 21/80\n",
      " - 8s - loss: 0.4021 - acc: 0.8035 - val_loss: 0.4867 - val_acc: 0.7785\n",
      "Epoch 22/80\n",
      " - 7s - loss: 0.3974 - acc: 0.8066 - val_loss: 0.4786 - val_acc: 0.7791\n",
      "Epoch 23/80\n",
      " - 8s - loss: 0.3947 - acc: 0.8094 - val_loss: 0.4564 - val_acc: 0.7902\n",
      "Epoch 24/80\n",
      " - 8s - loss: 0.3913 - acc: 0.8110 - val_loss: 0.4622 - val_acc: 0.7846\n",
      "Epoch 25/80\n",
      " - 7s - loss: 0.3876 - acc: 0.8125 - val_loss: 0.4685 - val_acc: 0.7748\n",
      "Epoch 26/80\n",
      " - 7s - loss: 0.3872 - acc: 0.8142 - val_loss: 0.4767 - val_acc: 0.7966\n",
      "Epoch 27/80\n",
      " - 8s - loss: 0.3836 - acc: 0.8155 - val_loss: 0.4568 - val_acc: 0.7957\n",
      "Epoch 28/80\n",
      " - 8s - loss: 0.3790 - acc: 0.8175 - val_loss: 0.4677 - val_acc: 0.7966\n",
      "Epoch 29/80\n",
      " - 7s - loss: 0.3756 - acc: 0.8191 - val_loss: 0.4572 - val_acc: 0.7964\n",
      "Epoch 30/80\n",
      " - 7s - loss: 0.3723 - acc: 0.8213 - val_loss: 0.4743 - val_acc: 0.7955\n",
      "Epoch 31/80\n",
      " - 7s - loss: 0.3714 - acc: 0.8226 - val_loss: 0.4659 - val_acc: 0.7984\n",
      "Epoch 32/80\n",
      " - 7s - loss: 0.3756 - acc: 0.8206 - val_loss: 0.4698 - val_acc: 0.7984\n",
      "Epoch 33/80\n",
      " - 8s - loss: 0.3754 - acc: 0.8193 - val_loss: 0.4688 - val_acc: 0.7995\n",
      "Epoch 34/80\n",
      " - 8s - loss: 0.3671 - acc: 0.8217 - val_loss: 0.4833 - val_acc: 0.8032\n",
      "Epoch 35/80\n",
      " - 8s - loss: 0.3649 - acc: 0.8224 - val_loss: 0.4878 - val_acc: 0.8063\n",
      "Epoch 36/80\n",
      " - 8s - loss: 0.3614 - acc: 0.8262 - val_loss: 0.4506 - val_acc: 0.8054\n",
      "Epoch 37/80\n",
      " - 8s - loss: 0.3578 - acc: 0.8266 - val_loss: 0.4602 - val_acc: 0.8048\n",
      "Epoch 38/80\n",
      " - 8s - loss: 0.3570 - acc: 0.8281 - val_loss: 0.4735 - val_acc: 0.8048\n",
      "Epoch 39/80\n",
      " - 7s - loss: 0.3530 - acc: 0.8305 - val_loss: 0.4666 - val_acc: 0.8070\n",
      "Epoch 40/80\n",
      " - 8s - loss: 0.3524 - acc: 0.8303 - val_loss: 0.4631 - val_acc: 0.8098\n",
      "Epoch 41/80\n",
      " - 8s - loss: 0.3476 - acc: 0.8344 - val_loss: 0.4706 - val_acc: 0.8150\n",
      "Epoch 42/80\n",
      " - 8s - loss: 0.3476 - acc: 0.8339 - val_loss: 0.4661 - val_acc: 0.8005\n",
      "Epoch 43/80\n",
      " - 8s - loss: 0.3470 - acc: 0.8328 - val_loss: 0.4757 - val_acc: 0.8023\n",
      "Epoch 44/80\n",
      " - 7s - loss: 0.3463 - acc: 0.8337 - val_loss: 0.4550 - val_acc: 0.8209\n",
      "Epoch 45/80\n",
      " - 7s - loss: 0.3429 - acc: 0.8364 - val_loss: 0.4865 - val_acc: 0.8098\n",
      "Epoch 46/80\n",
      " - 8s - loss: 0.3394 - acc: 0.8377 - val_loss: 0.4633 - val_acc: 0.8125\n",
      "Epoch 47/80\n",
      " - 7s - loss: 0.3376 - acc: 0.8375 - val_loss: 0.4570 - val_acc: 0.8166\n",
      "Epoch 48/80\n",
      " - 8s - loss: 0.3344 - acc: 0.8396 - val_loss: 0.4758 - val_acc: 0.8136\n",
      "Epoch 49/80\n",
      " - 7s - loss: 0.3359 - acc: 0.8372 - val_loss: 0.4624 - val_acc: 0.8079\n",
      "Epoch 50/80\n",
      " - 7s - loss: 0.3310 - acc: 0.8406 - val_loss: 0.4702 - val_acc: 0.8136\n",
      "Epoch 51/80\n",
      " - 7s - loss: 0.3298 - acc: 0.8419 - val_loss: 0.4607 - val_acc: 0.8195\n",
      "Epoch 52/80\n",
      " - 7s - loss: 0.3270 - acc: 0.8423 - val_loss: 0.4811 - val_acc: 0.8063\n",
      "Epoch 53/80\n",
      " - 8s - loss: 0.3267 - acc: 0.8423 - val_loss: 0.4671 - val_acc: 0.8172\n",
      "Epoch 54/80\n",
      " - 7s - loss: 0.3240 - acc: 0.8474 - val_loss: 0.4667 - val_acc: 0.8159\n",
      "Epoch 55/80\n",
      " - 7s - loss: 0.3213 - acc: 0.8484 - val_loss: 0.4907 - val_acc: 0.8107\n",
      "Epoch 56/80\n",
      " - 7s - loss: 0.3195 - acc: 0.8503 - val_loss: 0.4701 - val_acc: 0.8215\n",
      "Epoch 57/80\n",
      " - 7s - loss: 0.3138 - acc: 0.8498 - val_loss: 0.4564 - val_acc: 0.8277\n",
      "Epoch 58/80\n",
      " - 8s - loss: 0.3158 - acc: 0.8516 - val_loss: 0.4587 - val_acc: 0.8152\n",
      "Epoch 59/80\n",
      " - 7s - loss: 0.3140 - acc: 0.8520 - val_loss: 0.4701 - val_acc: 0.8150\n",
      "Epoch 60/80\n",
      " - 8s - loss: 0.3125 - acc: 0.8518 - val_loss: 0.4483 - val_acc: 0.8265\n",
      "Epoch 61/80\n",
      " - 7s - loss: 0.3091 - acc: 0.8541 - val_loss: 0.4527 - val_acc: 0.8286\n",
      "Epoch 62/80\n",
      " - 7s - loss: 0.3110 - acc: 0.8520 - val_loss: 0.4681 - val_acc: 0.8170\n",
      "Epoch 63/80\n",
      " - 7s - loss: 0.3099 - acc: 0.8541 - val_loss: 0.4560 - val_acc: 0.8297\n",
      "Epoch 64/80\n",
      " - 7s - loss: 0.3071 - acc: 0.8550 - val_loss: 0.4781 - val_acc: 0.8236\n",
      "Epoch 65/80\n",
      " - 7s - loss: 0.3055 - acc: 0.8557 - val_loss: 0.4797 - val_acc: 0.8249\n",
      "Epoch 66/80\n",
      " - 7s - loss: 0.3049 - acc: 0.8564 - val_loss: 0.4556 - val_acc: 0.8259\n",
      "Epoch 67/80\n",
      " - 7s - loss: 0.3023 - acc: 0.8577 - val_loss: 0.4464 - val_acc: 0.8311\n",
      "Epoch 68/80\n",
      " - 7s - loss: 0.3063 - acc: 0.8566 - val_loss: 0.4439 - val_acc: 0.8311\n",
      "Epoch 69/80\n",
      " - 8s - loss: 0.3044 - acc: 0.8597 - val_loss: 0.4446 - val_acc: 0.8286\n",
      "Epoch 70/80\n",
      " - 7s - loss: 0.3019 - acc: 0.8608 - val_loss: 0.4557 - val_acc: 0.8379\n",
      "Epoch 71/80\n",
      " - 7s - loss: 0.2996 - acc: 0.8594 - val_loss: 0.4359 - val_acc: 0.8333\n",
      "Epoch 72/80\n",
      " - 8s - loss: 0.2990 - acc: 0.8603 - val_loss: 0.4564 - val_acc: 0.8327\n",
      "Epoch 73/80\n",
      " - 8s - loss: 0.2980 - acc: 0.8606 - val_loss: 0.4608 - val_acc: 0.8322\n",
      "Epoch 74/80\n",
      " - 7s - loss: 0.2952 - acc: 0.8627 - val_loss: 0.4394 - val_acc: 0.8367\n",
      "Epoch 75/80\n",
      " - 7s - loss: 0.2979 - acc: 0.8622 - val_loss: 0.4527 - val_acc: 0.8354\n",
      "Epoch 76/80\n",
      " - 7s - loss: 0.2970 - acc: 0.8610 - val_loss: 0.4572 - val_acc: 0.8322\n",
      "Epoch 77/80\n",
      " - 7s - loss: 0.2938 - acc: 0.8631 - val_loss: 0.4655 - val_acc: 0.8331\n",
      "Epoch 78/80\n",
      " - 7s - loss: 0.2971 - acc: 0.8603 - val_loss: 0.4724 - val_acc: 0.8274\n",
      "Epoch 79/80\n",
      " - 7s - loss: 0.2903 - acc: 0.8653 - val_loss: 0.4565 - val_acc: 0.8347\n",
      "Epoch 80/80\n",
      " - 7s - loss: 0.3046 - acc: 0.8546 - val_loss: 0.4778 - val_acc: 0.8333\n"
     ]
    }
   ],
   "source": [
    "history = model1.fit(train_x, train_y, epochs=80, validation_data=([val_x, val_y]),\n",
    "                     batch_size=8, verbose=2)"
   ]
  },
  {
   "cell_type": "code",
   "execution_count": 22,
   "metadata": {},
   "outputs": [
    {
     "data": {
      "text/plain": [
       "<matplotlib.legend.Legend at 0x1ae40031eb8>"
      ]
     },
     "execution_count": 22,
     "metadata": {},
     "output_type": "execute_result"
    },
    {
     "data": {
      "image/png": "[encoded data removed]",
      "text/plain": [
       "<matplotlib.figure.Figure at 0x1ae40b779e8>"
      ]
     },
     "metadata": {},
     "output_type": "display_data"
    }
   ],
   "source": [
    "plt.plot(history.history['acc'])\n",
    "plt.plot(history.history['val_acc'])\n",
    "plt.ylabel('loss')\n",
    "plt.xlabel('epoch')\n",
    "plt.legend(['train','val'], loc='best')"
   ]
  },
  {
   "cell_type": "markdown",
   "metadata": {},
   "source": [
    "## 模型輸出"
   ]
  },
  {
   "cell_type": "code",
   "execution_count": 23,
   "metadata": {},
   "outputs": [
    {
     "data": {
      "text/plain": [
       "array([[0.92870367, 0.07129628],\n",
       "       [0.9926732 , 0.00732674],\n",
       "       [0.9648386 , 0.03516138],\n",
       "       ...,\n",
       "       [0.        , 1.        ],\n",
       "       [0.4959987 , 0.50400126],\n",
       "       [0.96364504, 0.03635497]], dtype=float32)"
      ]
     },
     "execution_count": 23,
     "metadata": {},
     "output_type": "execute_result"
    }
   ],
   "source": [
    "model1.predict(train_x)"
   ]
  },
  {
   "cell_type": "markdown",
   "metadata": {},
   "source": [
    "## model效能檢視"
   ]
  },
  {
   "cell_type": "code",
   "execution_count": 24,
   "metadata": {},
   "outputs": [
    {
     "name": "stdout",
     "output_type": "stream",
     "text": [
      "模型在訓練樣本上的 accuracy: 0.8708262984149384\n"
     ]
    }
   ],
   "source": [
    "train_pred_label = model1.predict_classes(train_x)\n",
    "accuracy=accuracy_score(train_y[1],train_pred_label)\n",
    "print('模型在訓練樣本上的 accuracy:', accuracy)"
   ]
  },
  {
   "cell_type": "code",
   "execution_count": 25,
   "metadata": {},
   "outputs": [
    {
     "name": "stdout",
     "output_type": "stream",
     "text": [
      "模型在驗證樣本上的 accuracy: 0.8333333333333334\n"
     ]
    }
   ],
   "source": [
    "val_pred_label = model1.predict_classes(val_x)\n",
    "accuracy=accuracy_score(val_y[1],val_pred_label)\n",
    "print('模型在驗證樣本上的 accuracy:', accuracy)"
   ]
  },
  {
   "cell_type": "code",
   "execution_count": 26,
   "metadata": {},
   "outputs": [
    {
     "name": "stdout",
     "output_type": "stream",
     "text": [
      "模型在所有樣本上的 accuracy: 0.8670764066858685\n"
     ]
    }
   ],
   "source": [
    "all_pred_label = model1.predict_classes(df)\n",
    "accuracy=accuracy_score(y[1],all_pred_label)\n",
    "print('模型在所有樣本上的 accuracy:', accuracy)"
   ]
  },
  {
   "cell_type": "markdown",
   "metadata": {},
   "source": [
    "## 使用 confusion matrix 檢查模型的分類狀況"
   ]
  },
  {
   "cell_type": "code",
   "execution_count": 27,
   "metadata": {},
   "outputs": [
    {
     "data": {
      "text/plain": [
       "Text(0.5,15,'Predicted label')"
      ]
     },
     "execution_count": 27,
     "metadata": {},
     "output_type": "execute_result"
    },
    {
     "data": {
      "image/png": "[encoded data removed]",
      "text/plain": [
       "<matplotlib.figure.Figure at 0x1ae40b77da0>"
      ]
     },
     "metadata": {},
     "output_type": "display_data"
    }
   ],
   "source": [
    "from sklearn.metrics import confusion_matrix\n",
    "y_pred = all_pred_label\n",
    "g = sns.heatmap(confusion_matrix(y[1],y_pred),annot=True, fmt='d')\n",
    "plt.ylabel('True label')\n",
    "plt.xlabel('Predicted label')"
   ]
  },
  {
   "cell_type": "markdown",
   "metadata": {},
   "source": [
    "## 客戶活躍程度衰退預警名單\n",
    "### 從價值客戶中尋找衰退至退坑、停儲、停滯狀態的玩家，建立可能衰退玩家名單，做為制定行銷策略的參考資料。"
   ]
  },
  {
   "cell_type": "code",
   "execution_count": 28,
   "metadata": {},
   "outputs": [
    {
     "data": {
      "text/html": [
       "<div>\n",
       "<style scoped>\n",
       "    .dataframe tbody tr th:only-of-type {\n",
       "        vertical-align: middle;\n",
       "    }\n",
       "\n",
       "    .dataframe tbody tr th {\n",
       "        vertical-align: top;\n",
       "    }\n",
       "\n",
       "    .dataframe thead th {\n",
       "        text-align: right;\n",
       "    }\n",
       "</style>\n",
       "<table border=\"1\" class=\"dataframe\">\n",
       "  <thead>\n",
       "    <tr style=\"text-align: right;\">\n",
       "      <th></th>\n",
       "      <th>遊戲名稱</th>\n",
       "      <th>遊戲帳號</th>\n",
       "      <th>時間Key</th>\n",
       "      <th>RFM判斷是否為價值客戶</th>\n",
       "      <th>Deep Learning預測是否為價值客戶</th>\n",
       "      <th>Deep Learning預測衰退機率</th>\n",
       "      <th>RFM數字類型</th>\n",
       "      <th>RFM中文類型</th>\n",
       "      <th>價值指數</th>\n",
       "      <th>第一次儲值日期</th>\n",
       "      <th>最後一次儲值日期</th>\n",
       "      <th>平均儲值日期間隔</th>\n",
       "      <th>平均儲值日期區間</th>\n",
       "      <th>儲值次數</th>\n",
       "      <th>平均儲值金額</th>\n",
       "      <th>平均儲值金額區間</th>\n",
       "      <th>累積儲值金額</th>\n",
       "      <th>累積儲值金額區間</th>\n",
       "      <th>角色等級</th>\n",
       "      <th>最近上線時間</th>\n",
       "      <th>角色職業</th>\n",
       "      <th>修真</th>\n",
       "      <th>轉生級別</th>\n",
       "      <th>境界</th>\n",
       "      <th>魔書經驗</th>\n",
       "      <th>星運</th>\n",
       "      <th>魂力</th>\n",
       "      <th>傷害力指數</th>\n",
       "      <th>生存指數</th>\n",
       "      <th>聲望</th>\n",
       "      <th>修真_未填坑</th>\n",
       "      <th>境界_未填坑</th>\n",
       "      <th>星運_未填坑</th>\n",
       "      <th>轉生_未填坑</th>\n",
       "      <th>一轉等級</th>\n",
       "    </tr>\n",
       "  </thead>\n",
       "  <tbody>\n",
       "    <tr>\n",
       "      <th>149986</th>\n",
       "      <td>完美世界</td>\n",
       "      <td>tp6jo6cl62000</td>\n",
       "      <td>2017-12-31</td>\n",
       "      <td>1</td>\n",
       "      <td>0</td>\n",
       "      <td>1.000000</td>\n",
       "      <td>555</td>\n",
       "      <td>P_價值</td>\n",
       "      <td>4.135000</td>\n",
       "      <td>2007-09-10</td>\n",
       "      <td>2017-10-23</td>\n",
       "      <td>29.410000</td>\n",
       "      <td>1個月</td>\n",
       "      <td>128</td>\n",
       "      <td>1499</td>\n",
       "      <td>1K~2K</td>\n",
       "      <td>191830</td>\n",
       "      <td>100K~300K</td>\n",
       "      <td>2,100.000000</td>\n",
       "      <td>2017-12-31</td>\n",
       "      <td>夜影</td>\n",
       "      <td>21真仙</td>\n",
       "      <td>2.000000</td>\n",
       "      <td>均天二重</td>\n",
       "      <td>237,841,910.000000</td>\n",
       "      <td>3.000000</td>\n",
       "      <td>15,457.000000</td>\n",
       "      <td>79,072.000000</td>\n",
       "      <td>90,926.000000</td>\n",
       "      <td>205,443.000000</td>\n",
       "      <td>20.000000</td>\n",
       "      <td>8.000000</td>\n",
       "      <td>5.000000</td>\n",
       "      <td>0.000000</td>\n",
       "      <td>103.000000</td>\n",
       "    </tr>\n",
       "    <tr>\n",
       "      <th>162770</th>\n",
       "      <td>完美世界</td>\n",
       "      <td>xyz88874</td>\n",
       "      <td>2018-05-21</td>\n",
       "      <td>1</td>\n",
       "      <td>0</td>\n",
       "      <td>1.000000</td>\n",
       "      <td>554</td>\n",
       "      <td>P_價值</td>\n",
       "      <td>3.308000</td>\n",
       "      <td>2007-05-14</td>\n",
       "      <td>2018-05-09</td>\n",
       "      <td>16.300000</td>\n",
       "      <td>3週</td>\n",
       "      <td>247</td>\n",
       "      <td>1243</td>\n",
       "      <td>1K~2K</td>\n",
       "      <td>306910</td>\n",
       "      <td>300K~500K</td>\n",
       "      <td>2,103.000000</td>\n",
       "      <td>2018-05-19</td>\n",
       "      <td>妖獸</td>\n",
       "      <td>22天仙</td>\n",
       "      <td>2.000000</td>\n",
       "      <td>動天九重</td>\n",
       "      <td>151,802,759.000000</td>\n",
       "      <td>2.000000</td>\n",
       "      <td>23,754.000000</td>\n",
       "      <td>34,240.000000</td>\n",
       "      <td>411,000.000000</td>\n",
       "      <td>326,925.000000</td>\n",
       "      <td>19.000000</td>\n",
       "      <td>11.000000</td>\n",
       "      <td>6.000000</td>\n",
       "      <td>0.000000</td>\n",
       "      <td>105.000000</td>\n",
       "    </tr>\n",
       "    <tr>\n",
       "      <th>155733</th>\n",
       "      <td>完美世界</td>\n",
       "      <td>wai8821</td>\n",
       "      <td>2017-12-31</td>\n",
       "      <td>1</td>\n",
       "      <td>0</td>\n",
       "      <td>1.000000</td>\n",
       "      <td>521</td>\n",
       "      <td>P_價值</td>\n",
       "      <td>0.331000</td>\n",
       "      <td>2007-03-04</td>\n",
       "      <td>2017-10-21</td>\n",
       "      <td>91.980000</td>\n",
       "      <td>超過3個月</td>\n",
       "      <td>43</td>\n",
       "      <td>256</td>\n",
       "      <td>1K</td>\n",
       "      <td>11000</td>\n",
       "      <td>10K~30K</td>\n",
       "      <td>1,101.000000</td>\n",
       "      <td>2017-12-31</td>\n",
       "      <td>武俠</td>\n",
       "      <td>21真仙</td>\n",
       "      <td>1.000000</td>\n",
       "      <td>玄天十重</td>\n",
       "      <td>0.000000</td>\n",
       "      <td>1.000000</td>\n",
       "      <td>15,613.000000</td>\n",
       "      <td>12,992.000000</td>\n",
       "      <td>24,816.000000</td>\n",
       "      <td>45,052.000000</td>\n",
       "      <td>20.000000</td>\n",
       "      <td>40.000000</td>\n",
       "      <td>7.000000</td>\n",
       "      <td>1.000000</td>\n",
       "      <td>101.000000</td>\n",
       "    </tr>\n",
       "    <tr>\n",
       "      <th>49761</th>\n",
       "      <td>完美世界</td>\n",
       "      <td>fax444</td>\n",
       "      <td>2017-12-31</td>\n",
       "      <td>1</td>\n",
       "      <td>0</td>\n",
       "      <td>1.000000</td>\n",
       "      <td>454</td>\n",
       "      <td>P_價值</td>\n",
       "      <td>2.647000</td>\n",
       "      <td>2010-07-02</td>\n",
       "      <td>2017-10-05</td>\n",
       "      <td>16.400000</td>\n",
       "      <td>3週</td>\n",
       "      <td>167</td>\n",
       "      <td>1043</td>\n",
       "      <td>1K~2K</td>\n",
       "      <td>174250</td>\n",
       "      <td>100K~300K</td>\n",
       "      <td>2,100.000000</td>\n",
       "      <td>2017-12-31</td>\n",
       "      <td>刺客</td>\n",
       "      <td>30狂魔</td>\n",
       "      <td>2.000000</td>\n",
       "      <td>幻天七重</td>\n",
       "      <td>0.000000</td>\n",
       "      <td>1.000000</td>\n",
       "      <td>16,303.000000</td>\n",
       "      <td>17,085.000000</td>\n",
       "      <td>32,488.000000</td>\n",
       "      <td>203,980.000000</td>\n",
       "      <td>11.000000</td>\n",
       "      <td>33.000000</td>\n",
       "      <td>7.000000</td>\n",
       "      <td>0.000000</td>\n",
       "      <td>100.000000</td>\n",
       "    </tr>\n",
       "    <tr>\n",
       "      <th>155967</th>\n",
       "      <td>完美世界</td>\n",
       "      <td>wangjuikuo5883</td>\n",
       "      <td>2017-12-31</td>\n",
       "      <td>1</td>\n",
       "      <td>0</td>\n",
       "      <td>0.999992</td>\n",
       "      <td>412</td>\n",
       "      <td>P_價值</td>\n",
       "      <td>0.265000</td>\n",
       "      <td>2010-12-31</td>\n",
       "      <td>2017-10-10</td>\n",
       "      <td>319.630000</td>\n",
       "      <td>超過3個月</td>\n",
       "      <td>8</td>\n",
       "      <td>538</td>\n",
       "      <td>1K</td>\n",
       "      <td>4300</td>\n",
       "      <td>1K~5K</td>\n",
       "      <td>2,103.000000</td>\n",
       "      <td>2017-12-29</td>\n",
       "      <td>武俠</td>\n",
       "      <td>40混元</td>\n",
       "      <td>2.000000</td>\n",
       "      <td>均天六重</td>\n",
       "      <td>0.000000</td>\n",
       "      <td>0.000000</td>\n",
       "      <td>16,588.000000</td>\n",
       "      <td>35,971.000000</td>\n",
       "      <td>82,580.000000</td>\n",
       "      <td>820,156.000000</td>\n",
       "      <td>1.000000</td>\n",
       "      <td>4.000000</td>\n",
       "      <td>8.000000</td>\n",
       "      <td>0.000000</td>\n",
       "      <td>103.000000</td>\n",
       "    </tr>\n",
       "  </tbody>\n",
       "</table>\n",
       "</div>"
      ],
      "text/plain": [
       "        遊戲名稱            遊戲帳號      時間Key  RFM判斷是否為價值客戶  Deep Learning預測是否為價值客戶  \\\n",
       "149986  完美世界   tp6jo6cl62000 2017-12-31             1                       0   \n",
       "162770  完美世界        xyz88874 2018-05-21             1                       0   \n",
       "155733  完美世界         wai8821 2017-12-31             1                       0   \n",
       "49761   完美世界          fax444 2017-12-31             1                       0   \n",
       "155967  完美世界  wangjuikuo5883 2017-12-31             1                       0   \n",
       "\n",
       "        Deep Learning預測衰退機率  RFM數字類型 RFM中文類型     價值指數    第一次儲值日期   最後一次儲值日期  \\\n",
       "149986             1.000000      555    P_價值 4.135000 2007-09-10 2017-10-23   \n",
       "162770             1.000000      554    P_價值 3.308000 2007-05-14 2018-05-09   \n",
       "155733             1.000000      521    P_價值 0.331000 2007-03-04 2017-10-21   \n",
       "49761              1.000000      454    P_價值 2.647000 2010-07-02 2017-10-05   \n",
       "155967             0.999992      412    P_價值 0.265000 2010-12-31 2017-10-10   \n",
       "\n",
       "         平均儲值日期間隔 平均儲值日期區間  儲值次數  平均儲值金額 平均儲值金額區間  累積儲值金額   累積儲值金額區間  \\\n",
       "149986  29.410000      1個月   128    1499    1K~2K  191830  100K~300K   \n",
       "162770  16.300000       3週   247    1243    1K~2K  306910  300K~500K   \n",
       "155733  91.980000    超過3個月    43     256       1K   11000    10K~30K   \n",
       "49761   16.400000       3週   167    1043    1K~2K  174250  100K~300K   \n",
       "155967 319.630000    超過3個月     8     538       1K    4300      1K~5K   \n",
       "\n",
       "               角色等級     最近上線時間 角色職業    修真     轉生級別    境界               魔書經驗  \\\n",
       "149986 2,100.000000 2017-12-31   夜影  21真仙 2.000000  均天二重 237,841,910.000000   \n",
       "162770 2,103.000000 2018-05-19   妖獸  22天仙 2.000000  動天九重 151,802,759.000000   \n",
       "155733 1,101.000000 2017-12-31   武俠  21真仙 1.000000  玄天十重           0.000000   \n",
       "49761  2,100.000000 2017-12-31   刺客  30狂魔 2.000000  幻天七重           0.000000   \n",
       "155967 2,103.000000 2017-12-29   武俠  40混元 2.000000  均天六重           0.000000   \n",
       "\n",
       "             星運            魂力         傷害力指數           生存指數             聲望  \\\n",
       "149986 3.000000 15,457.000000 79,072.000000  90,926.000000 205,443.000000   \n",
       "162770 2.000000 23,754.000000 34,240.000000 411,000.000000 326,925.000000   \n",
       "155733 1.000000 15,613.000000 12,992.000000  24,816.000000  45,052.000000   \n",
       "49761  1.000000 16,303.000000 17,085.000000  32,488.000000 203,980.000000   \n",
       "155967 0.000000 16,588.000000 35,971.000000  82,580.000000 820,156.000000   \n",
       "\n",
       "          修真_未填坑    境界_未填坑   星運_未填坑   轉生_未填坑       一轉等級  \n",
       "149986 20.000000  8.000000 5.000000 0.000000 103.000000  \n",
       "162770 19.000000 11.000000 6.000000 0.000000 105.000000  \n",
       "155733 20.000000 40.000000 7.000000 1.000000 101.000000  \n",
       "49761  11.000000 33.000000 7.000000 0.000000 100.000000  \n",
       "155967  1.000000  4.000000 8.000000 0.000000 103.000000  "
      ]
     },
     "execution_count": 28,
     "metadata": {},
     "output_type": "execute_result"
    }
   ],
   "source": [
    "all_pred_proba = model1.predict(df)\n",
    "\n",
    "data['Deep Learning預測是否為價值客戶'] = all_pred_label\n",
    "data['Deep Learning預測衰退機率'] = list(all_pred_proba[:,0])\n",
    "\n",
    "value_data = data[data['RFM判斷是否為價值客戶'] == 1]\n",
    "\n",
    "result = value_data\n",
    "\n",
    "result = result.drop_duplicates('遊戲帳號', keep='last')\n",
    "result = result.sort_values(['Deep Learning預測衰退機率'], ascending=False)\n",
    "result = result[result['Deep Learning預測是否為價值客戶'] == 0]\n",
    "result = result[result['RFM中文類型'] == 'P_價值']\n",
    "\n",
    "result = result[['遊戲名稱', '遊戲帳號', '時間Key','RFM判斷是否為價值客戶', 'Deep Learning預測是否為價值客戶',\n",
    "                 'Deep Learning預測衰退機率','RFM數字類型', 'RFM中文類型', '價值指數', '第一次儲值日期',\n",
    "                 '最後一次儲值日期', '平均儲值日期間隔', '平均儲值日期區間', '儲值次數', '平均儲值金額', '平均儲值金額區間',\n",
    "                 '累積儲值金額', '累積儲值金額區間', '角色等級', '最近上線時間', '角色職業', '修真', '轉生級別', '境界',\n",
    "                 '魔書經驗', '星運', '魂力', '傷害力指數', '生存指數', '聲望', '修真_未填坑', '境界_未填坑', '星運_未填坑',\n",
    "                 '轉生_未填坑', '一轉等級']]\n",
    "result.head()"
   ]
  },
  {
   "cell_type": "code",
   "execution_count": 29,
   "metadata": {},
   "outputs": [
    {
     "name": "stdout",
     "output_type": "stream",
     "text": [
      "<class 'pandas.core.frame.DataFrame'>\n",
      "Int64Index: 817 entries, 149986 to 32111\n",
      "Data columns (total 35 columns):\n",
      "遊戲名稱                      817 non-null object\n",
      "遊戲帳號                      817 non-null object\n",
      "時間Key                     817 non-null datetime64[ns]\n",
      "RFM判斷是否為價值客戶              817 non-null int64\n",
      "Deep Learning預測是否為價值客戶    817 non-null int64\n",
      "Deep Learning預測衰退機率       817 non-null float64\n",
      "RFM數字類型                   817 non-null int64\n",
      "RFM中文類型                   817 non-null object\n",
      "價值指數                      817 non-null float64\n",
      "第一次儲值日期                   817 non-null datetime64[ns]\n",
      "最後一次儲值日期                  817 non-null datetime64[ns]\n",
      "平均儲值日期間隔                  817 non-null float64\n",
      "平均儲值日期區間                  817 non-null object\n",
      "儲值次數                      817 non-null int64\n",
      "平均儲值金額                    817 non-null int64\n",
      "平均儲值金額區間                  817 non-null object\n",
      "累積儲值金額                    817 non-null int64\n",
      "累積儲值金額區間                  817 non-null object\n",
      "角色等級                      817 non-null float64\n",
      "最近上線時間                    817 non-null datetime64[ns]\n",
      "角色職業                      817 non-null object\n",
      "修真                        817 non-null object\n",
      "轉生級別                      817 non-null float64\n",
      "境界                        817 non-null object\n",
      "魔書經驗                      817 non-null float64\n",
      "星運                        817 non-null float64\n",
      "魂力                        817 non-null float64\n",
      "傷害力指數                     817 non-null float64\n",
      "生存指數                      817 non-null float64\n",
      "聲望                        817 non-null float64\n",
      "修真_未填坑                    817 non-null float64\n",
      "境界_未填坑                    817 non-null float64\n",
      "星運_未填坑                    817 non-null float64\n",
      "轉生_未填坑                    817 non-null float64\n",
      "一轉等級                      817 non-null float64\n",
      "dtypes: datetime64[ns](4), float64(16), int64(6), object(9)\n",
      "memory usage: 229.8+ KB\n"
     ]
    }
   ],
   "source": [
    "result.info()"
   ]
  },
  {
   "cell_type": "code",
   "execution_count": null,
   "metadata": {},
   "outputs": [],
   "source": []
  },
  {
   "cell_type": "markdown",
   "metadata": {},
   "source": [
    "## 練習"
   ]
  },
  {
   "cell_type": "markdown",
   "metadata": {},
   "source": [
    "## 將模型輸出層的activation funtion改為 sigmoid"
   ]
  },
  {
   "cell_type": "code",
   "execution_count": 30,
   "metadata": {},
   "outputs": [],
   "source": [
    "df2 = data[['平均儲值日期間隔','儲值次數', '平均儲值金額','角色等級','累積儲值金額',\n",
    "           '傷害力指數', '生存指數', '聲望', 'RFM判斷是否為價值客戶', '星運', '魂力',\n",
    "           '魔書經驗', '傷害力指數', '生存指數', '聲望', '修真_未填坑',\n",
    "           '境界_未填坑', '星運_未填坑', '一轉等級','角色職業', '境界', '修真']]"
   ]
  },
  {
   "cell_type": "code",
   "execution_count": 31,
   "metadata": {},
   "outputs": [],
   "source": [
    "df2 = pd.get_dummies(df2, columns=['角色職業'])\n",
    "df2 = pd.get_dummies(df2, columns=['修真'])\n",
    "df2 = pd.get_dummies(df2, columns=['境界'])"
   ]
  },
  {
   "cell_type": "code",
   "execution_count": 32,
   "metadata": {},
   "outputs": [],
   "source": [
    "y = df2['RFM判斷是否為價值客戶']"
   ]
  },
  {
   "cell_type": "code",
   "execution_count": 33,
   "metadata": {},
   "outputs": [],
   "source": [
    "df2 = df2.drop(['RFM判斷是否為價值客戶'], axis=1)\n",
    "df2 = df2.values\n",
    "df2 = scaler.fit_transform(df2)"
   ]
  },
  {
   "cell_type": "code",
   "execution_count": 34,
   "metadata": {},
   "outputs": [],
   "source": [
    "train_x, val_x, train_y, val_y = train_test_split(df, y, \n",
    "                                                  random_state = 0,\n",
    "                                                  test_size=0.1)"
   ]
  },
  {
   "cell_type": "code",
   "execution_count": 35,
   "metadata": {},
   "outputs": [
    {
     "name": "stdout",
     "output_type": "stream",
     "text": [
      "(39683, 90) (4410, 90)\n"
     ]
    }
   ],
   "source": [
    "print(train_x.shape, val_x.shape)"
   ]
  },
  {
   "cell_type": "code",
   "execution_count": 36,
   "metadata": {},
   "outputs": [
    {
     "data": {
      "text/plain": [
       "134012    0\n",
       "55580     0\n",
       "14466     0\n",
       "84046     0\n",
       "132601    0\n",
       "Name: RFM判斷是否為價值客戶, dtype: int64"
      ]
     },
     "execution_count": 36,
     "metadata": {},
     "output_type": "execute_result"
    }
   ],
   "source": [
    "train_y.head()"
   ]
  },
  {
   "cell_type": "code",
   "execution_count": 37,
   "metadata": {},
   "outputs": [
    {
     "ename": "SyntaxError",
     "evalue": "invalid syntax (<ipython-input-37-f1c67ab73090>, line 10)",
     "output_type": "error",
     "traceback": [
      "\u001b[1;36m  File \u001b[1;32m\"<ipython-input-37-f1c67ab73090>\"\u001b[1;36m, line \u001b[1;32m10\u001b[0m\n\u001b[1;33m    model.add(Dense(units=, activation=''))\u001b[0m\n\u001b[1;37m                          ^\u001b[0m\n\u001b[1;31mSyntaxError\u001b[0m\u001b[1;31m:\u001b[0m invalid syntax\n"
     ]
    }
   ],
   "source": [
    "def model2():\n",
    "    model = Sequential()\n",
    "    model.add(Dense(units=256, input_dim=train_x.shape[1], activation='relu'))  \n",
    "    model.add(Dense(units=128, activation='relu'))\n",
    "    model.add(Dense(units=64, activation='relu'))\n",
    "    model.add(Dense(units=32, activation='relu'))\n",
    "    model.add(Dense(units=16, activation='relu'))\n",
    "    model.add(Dense(units=8, activation='relu'))\n",
    "    model.add(Dense(units=4, activation='relu'))\n",
    "    model.add(Dense(units=, activation=''))  \n",
    "    model.compile(loss='binary_crossentropy',\n",
    "                  optimizer='adam',\n",
    "                  metrics=['accuracy'])\n",
    "    return model\n",
    "\n",
    "model2 = model2()"
   ]
  },
  {
   "cell_type": "code",
   "execution_count": null,
   "metadata": {
    "scrolled": true
   },
   "outputs": [],
   "source": [
    "ss = model2.fit(train_x, train_y, epochs=150, validation_data=([val_x, val_y]),\n",
    "                batch_size=8, verbose=2)"
   ]
  },
  {
   "cell_type": "code",
   "execution_count": null,
   "metadata": {},
   "outputs": [],
   "source": [
    "train_pred_label = model2.predict_classes(train_x)\n",
    "accuracy=accuracy_score(train_y,train_pred_label)\n",
    "print('模型在訓練樣本上的 accuracy:', accuracy)"
   ]
  },
  {
   "cell_type": "code",
   "execution_count": null,
   "metadata": {},
   "outputs": [],
   "source": [
    "val_pred_label = model2.predict_classes(val_x)\n",
    "accuracy=accuracy_score(val_y,val_pred_label)\n",
    "print('模型在驗證樣本上的 accuracy:', accuracy)"
   ]
  },
  {
   "cell_type": "code",
   "execution_count": null,
   "metadata": {},
   "outputs": [],
   "source": [
    "all_pred_label = model2.predict_classes(df)\n",
    "accuracy=accuracy_score(y,all_pred_label)\n",
    "print('模型在所有樣本上的 accuracy:', accuracy)"
   ]
  },
  {
   "cell_type": "code",
   "execution_count": null,
   "metadata": {},
   "outputs": [],
   "source": []
  },
  {
   "cell_type": "code",
   "execution_count": null,
   "metadata": {},
   "outputs": [],
   "source": []
  },
  {
   "cell_type": "code",
   "execution_count": null,
   "metadata": {},
   "outputs": [],
   "source": []
  },
  {
   "cell_type": "code",
   "execution_count": null,
   "metadata": {},
   "outputs": [],
   "source": []
  },
  {
   "cell_type": "code",
   "execution_count": null,
   "metadata": {},
   "outputs": [],
   "source": []
  }
 ],
 "metadata": {
  "kernelspec": {
   "display_name": "Python 3",
   "language": "python",
   "name": "python3"
  },
  "language_info": {
   "codemirror_mode": {
    "name": "ipython",
    "version": 3
   },
   "file_extension": ".py",
   "mimetype": "text/x-python",
   "name": "python",
   "nbconvert_exporter": "python",
   "pygments_lexer": "ipython3",
   "version": "3.6.4"
  }
 },
 "nbformat": 4,
 "nbformat_minor": 2
}
